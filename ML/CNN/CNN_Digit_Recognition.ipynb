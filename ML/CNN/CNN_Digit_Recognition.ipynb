{
  "nbformat": 4,
  "nbformat_minor": 0,
  "metadata": {
    "colab": {
      "name": "CNN -  Digit Recognition.ipynb",
      "provenance": [],
      "collapsed_sections": [],
      "authorship_tag": "ABX9TyOnaAuX5LKeYsBUy+rg7NhC",
      "include_colab_link": true
    },
    "kernelspec": {
      "name": "python3",
      "display_name": "Python 3"
    },
    "language_info": {
      "name": "python"
    }
  },
  "cells": [
    {
      "cell_type": "markdown",
      "metadata": {
        "id": "view-in-github",
        "colab_type": "text"
      },
      "source": [
        "<a href=\"https://colab.research.google.com/github/arjangvt/CodeFolio/blob/main/ML/CNN/CNN_Digit_Recognition.ipynb\" target=\"_parent\"><img src=\"https://colab.research.google.com/assets/colab-badge.svg\" alt=\"Open In Colab\"/></a>"
      ]
    },
    {
      "cell_type": "markdown",
      "source": [
        "Building a simple CNN using tensorflow.\n",
        "In this tutorial, I used build in famous mnist dataset\n",
        "built in keras. \n",
        "__________________________________________________\n",
        "<br>\n",
        "<br>\n",
        "<font size=2>\n",
        "Written by: Arjang Fahim<br>\n",
        "Date: 9-15-2021\n",
        "Updated: 3-28-2022\n",
        "</font>"
      ],
      "metadata": {
        "id": "U9JYpifFrIhN"
      }
    },
    {
      "cell_type": "markdown",
      "source": [
        "# Step 1: Installation and Setup"
      ],
      "metadata": {
        "id": "WvK7esNEHBjV"
      }
    },
    {
      "cell_type": "code",
      "execution_count": null,
      "metadata": {
        "id": "EsWNLM-VG4Ew",
        "colab": {
          "base_uri": "https://localhost:8080/",
          "height": 35
        },
        "outputId": "af2a774b-ae1e-40ca-afee-414862116dd8"
      },
      "outputs": [
        {
          "output_type": "execute_result",
          "data": {
            "text/plain": [
              "'\\n  Colab already installed tensorflow versions 1.x and 2.0,\\n  GPU and non GPU versions.\\n  For more information please check\\n  https://colab.research.google.com/notebooks/tensorflow_version.ipynb\\n'"
            ],
            "application/vnd.google.colaboratory.intrinsic+json": {
              "type": "string"
            }
          },
          "metadata": {},
          "execution_count": 1
        }
      ],
      "source": [
        "'''\n",
        "  Colab already installed tensorflow versions 1.x and 2.0,\n",
        "  GPU and non GPU versions.\n",
        "  For more information please check\n",
        "  https://colab.research.google.com/notebooks/tensorflow_version.ipynb\n",
        "'''"
      ]
    },
    {
      "cell_type": "code",
      "source": [
        "import tensorflow as tf\n",
        "print(tf.__version__)"
      ],
      "metadata": {
        "colab": {
          "base_uri": "https://localhost:8080/"
        },
        "id": "894LY5qxOLip",
        "outputId": "48472989-993c-4965-d1e6-71f022692b8b"
      },
      "execution_count": null,
      "outputs": [
        {
          "output_type": "stream",
          "name": "stdout",
          "text": [
            "2.8.0\n"
          ]
        }
      ]
    },
    {
      "cell_type": "code",
      "source": [
        "import numpy as np\n",
        "import pandas as pd\n",
        "import matplotlib.pyplot as plt"
      ],
      "metadata": {
        "id": "6hY7SWy8QD67"
      },
      "execution_count": null,
      "outputs": []
    },
    {
      "cell_type": "markdown",
      "source": [
        "# Step 2: Data preprocessing"
      ],
      "metadata": {
        "id": "TXsSCH3EQPer"
      }
    },
    {
      "cell_type": "code",
      "source": [
        "# importing the dataset\n",
        "\n",
        "from tensorflow.keras.datasets import mnist"
      ],
      "metadata": {
        "id": "uFPO0R2hQTmm"
      },
      "execution_count": null,
      "outputs": []
    },
    {
      "cell_type": "code",
      "source": [
        "# loading dataset\n",
        "\n",
        "(x_train, y_train),(x_test, y_test) = mnist.load_data()"
      ],
      "metadata": {
        "id": "XmCvJt-TQhk-",
        "colab": {
          "base_uri": "https://localhost:8080/"
        },
        "outputId": "49900b2b-78fa-4b36-c78e-a1323f9af9e1"
      },
      "execution_count": null,
      "outputs": [
        {
          "output_type": "stream",
          "name": "stdout",
          "text": [
            "Downloading data from https://storage.googleapis.com/tensorflow/tf-keras-datasets/mnist.npz\n",
            "11493376/11490434 [==============================] - 0s 0us/step\n",
            "11501568/11490434 [==============================] - 0s 0us/step\n"
          ]
        }
      ]
    },
    {
      "cell_type": "code",
      "source": [
        "plt.imshow(x_train[0])"
      ],
      "metadata": {
        "colab": {
          "base_uri": "https://localhost:8080/",
          "height": 282
        },
        "id": "U_FzcB62QrKg",
        "outputId": "99bb3b39-df6a-45f9-ae97-d64e8fbc7250"
      },
      "execution_count": null,
      "outputs": [
        {
          "output_type": "execute_result",
          "data": {
            "text/plain": [
              "<matplotlib.image.AxesImage at 0x7fa8d0f75350>"
            ]
          },
          "metadata": {},
          "execution_count": 6
        },
        {
          "output_type": "display_data",
          "data": {
            "text/plain": [
              "<Figure size 432x288 with 1 Axes>"
            ],
            "image/png": "[encoded data removed]"
          },
          "metadata": {
            "needs_background": "light"
          }
        }
      ]
    },
    {
      "cell_type": "code",
      "source": [
        "y_train[0]"
      ],
      "metadata": {
        "colab": {
          "base_uri": "https://localhost:8080/"
        },
        "id": "Bkwmck3JQwtb",
        "outputId": "19c2501e-9bef-4c42-9ebf-39257358f0c1"
      },
      "execution_count": null,
      "outputs": [
        {
          "output_type": "execute_result",
          "data": {
            "text/plain": [
              "5"
            ]
          },
          "metadata": {},
          "execution_count": 7
        }
      ]
    },
    {
      "cell_type": "code",
      "source": [
        "x_train.shape, y_train.shape"
      ],
      "metadata": {
        "colab": {
          "base_uri": "https://localhost:8080/"
        },
        "id": "ZLefkn53Q00A",
        "outputId": "41a9e539-23a2-4d7d-ab24-191390330358"
      },
      "execution_count": null,
      "outputs": [
        {
          "output_type": "execute_result",
          "data": {
            "text/plain": [
              "((60000, 28, 28), (60000,))"
            ]
          },
          "metadata": {},
          "execution_count": 8
        }
      ]
    },
    {
      "cell_type": "code",
      "source": [
        "x_test.shape, y_test.shape"
      ],
      "metadata": {
        "colab": {
          "base_uri": "https://localhost:8080/"
        },
        "id": "vXRx--ubQ7re",
        "outputId": "1c4e17d2-7667-4933-a533-bc6845423a64"
      },
      "execution_count": null,
      "outputs": [
        {
          "output_type": "execute_result",
          "data": {
            "text/plain": [
              "((10000, 28, 28), (10000,))"
            ]
          },
          "metadata": {},
          "execution_count": 9
        }
      ]
    },
    {
      "cell_type": "code",
      "source": [
        "x_train.min(), x_train.max()"
      ],
      "metadata": {
        "colab": {
          "base_uri": "https://localhost:8080/"
        },
        "id": "IUicxS6-REFW",
        "outputId": "b399999c-58c8-428a-a8dc-259019fd0ce3"
      },
      "execution_count": null,
      "outputs": [
        {
          "output_type": "execute_result",
          "data": {
            "text/plain": [
              "(0, 255)"
            ]
          },
          "metadata": {},
          "execution_count": 10
        }
      ]
    },
    {
      "cell_type": "code",
      "source": [
        "y_train.min(), y_train.max()"
      ],
      "metadata": {
        "colab": {
          "base_uri": "https://localhost:8080/"
        },
        "id": "qHwu6-yiRKEb",
        "outputId": "3136017b-e0c0-4e5c-9686-7472bfb244ab"
      },
      "execution_count": null,
      "outputs": [
        {
          "output_type": "execute_result",
          "data": {
            "text/plain": [
              "(0, 9)"
            ]
          },
          "metadata": {},
          "execution_count": 11
        }
      ]
    },
    {
      "cell_type": "code",
      "source": [
        "# normalizng the images\n",
        "# we do this because in practive each feature should be in a similar range so\n",
        "# that the gradient don't go out of control\n",
        "\n",
        "x_train = x_train / 255.0\n",
        "x_test = x_test / 255.0"
      ],
      "metadata": {
        "id": "6x5QwIN7RY88"
      },
      "execution_count": null,
      "outputs": []
    },
    {
      "cell_type": "code",
      "source": [
        "x_train.min(), x_train.max()"
      ],
      "metadata": {
        "colab": {
          "base_uri": "https://localhost:8080/"
        },
        "id": "7WBsC7DFRhX0",
        "outputId": "056aaa91-00a9-494c-ef75-19fbff1a7dac"
      },
      "execution_count": null,
      "outputs": [
        {
          "output_type": "execute_result",
          "data": {
            "text/plain": [
              "(0.0, 1.0)"
            ]
          },
          "metadata": {},
          "execution_count": 13
        }
      ]
    },
    {
      "cell_type": "code",
      "source": [
        "x_train.shape, x_test.shape"
      ],
      "metadata": {
        "colab": {
          "base_uri": "https://localhost:8080/"
        },
        "id": "ZTkOFW5aRqyA",
        "outputId": "edcdc18e-59d7-4daa-faa3-adc32a048b7a"
      },
      "execution_count": null,
      "outputs": [
        {
          "output_type": "execute_result",
          "data": {
            "text/plain": [
              "((60000, 28, 28), (10000, 28, 28))"
            ]
          },
          "metadata": {},
          "execution_count": 14
        }
      ]
    },
    {
      "cell_type": "code",
      "source": [
        "# reshaping the images\n",
        "# CNN is design for multi dimension data\n",
        "# here we add a dummy dimension so the data can be fed into\n",
        "# the model\n",
        "\n",
        "x_train = x_train.reshape(60000, 28, 28, 1)\n",
        "x_test = x_test.reshape(10000, 28, 28, 1)"
      ],
      "metadata": {
        "id": "CiS_YU-0Rm_c"
      },
      "execution_count": null,
      "outputs": []
    },
    {
      "cell_type": "code",
      "source": [
        "x_train.shape, x_test.shape"
      ],
      "metadata": {
        "colab": {
          "base_uri": "https://localhost:8080/"
        },
        "id": "rn8FciXHTk59",
        "outputId": "7299a257-c176-4bf7-8e94-666548de5c2f"
      },
      "execution_count": null,
      "outputs": [
        {
          "output_type": "execute_result",
          "data": {
            "text/plain": [
              "((60000, 28, 28, 1), (10000, 28, 28, 1))"
            ]
          },
          "metadata": {},
          "execution_count": 16
        }
      ]
    },
    {
      "cell_type": "code",
      "source": [
        "input_shape = x_train[0].shape"
      ],
      "metadata": {
        "id": "IKVRbk-eT2J1"
      },
      "execution_count": null,
      "outputs": []
    },
    {
      "cell_type": "code",
      "source": [
        "print(input_shape)"
      ],
      "metadata": {
        "colab": {
          "base_uri": "https://localhost:8080/"
        },
        "id": "ArzcZZRYT7pH",
        "outputId": "85c3279f-9b74-4c2f-bfc3-ff22f0dfd2c0"
      },
      "execution_count": null,
      "outputs": [
        {
          "output_type": "stream",
          "name": "stdout",
          "text": [
            "(28, 28, 1)\n"
          ]
        }
      ]
    },
    {
      "cell_type": "markdown",
      "source": [
        "# Step 3: Building the model"
      ],
      "metadata": {
        "id": "Dnf3jrhMV0fg"
      }
    },
    {
      "cell_type": "code",
      "source": [
        "# creating an object (Initializing CNN)\n",
        "\n",
        "model = tf.keras.models.Sequential()"
      ],
      "metadata": {
        "id": "XtYwArVfV6Ba"
      },
      "execution_count": null,
      "outputs": []
    },
    {
      "cell_type": "code",
      "source": [
        "# adding first CNN layer (Input layer)\n",
        "model.add(tf.keras.layers.Conv2D(filters = 32, kernel_size=(3,3), activation='relu', input_shape=(28, 28, 1)))\n",
        "\n",
        "# adding second CNN layer \n",
        "model.add(tf.keras.layers.Conv2D(filters=64, kernel_size=(3,3), activation='relu'))\n",
        "\n",
        "# adding maxpool layer\n",
        "model.add(tf.keras.layers.MaxPool2D(pool_size=(2,2)))\n",
        "\n",
        "# adding dropout layer\n",
        "model.add(tf.keras.layers.Dropout(0.4))\n",
        "\n",
        "# adding flatten layer\n",
        "model.add(tf.keras.layers.Flatten())\n",
        "\n",
        "# add fully connected later (Dense layer)\n",
        "model.add(tf.keras.layers.Dense(units=128, activation=\"relu\"))\n",
        "\n",
        "# output layer\n",
        "model.add(tf.keras.layers.Dense(units=10, activation='softmax'))"
      ],
      "metadata": {
        "id": "uFi_u3hiV8Oj"
      },
      "execution_count": null,
      "outputs": []
    },
    {
      "cell_type": "code",
      "source": [
        "model.summary()"
      ],
      "metadata": {
        "colab": {
          "base_uri": "https://localhost:8080/"
        },
        "id": "R_ZfQafCXyED",
        "outputId": "99f7f9e7-9d08-4b85-9bf6-add3feda83eb"
      },
      "execution_count": null,
      "outputs": [
        {
          "output_type": "stream",
          "name": "stdout",
          "text": [
            "Model: \"sequential\"\n",
            "_________________________________________________________________\n",
            " Layer (type)                Output Shape              Param #   \n",
            "=================================================================\n",
            " conv2d (Conv2D)             (None, 26, 26, 32)        320       \n",
            "                                                                 \n",
            " conv2d_1 (Conv2D)           (None, 24, 24, 64)        18496     \n",
            "                                                                 \n",
            " max_pooling2d (MaxPooling2D  (None, 12, 12, 64)       0         \n",
            " )                                                               \n",
            "                                                                 \n",
            " dropout (Dropout)           (None, 12, 12, 64)        0         \n",
            "                                                                 \n",
            " flatten (Flatten)           (None, 9216)              0         \n",
            "                                                                 \n",
            " dense (Dense)               (None, 128)               1179776   \n",
            "                                                                 \n",
            " dense_1 (Dense)             (None, 10)                1290      \n",
            "                                                                 \n",
            "=================================================================\n",
            "Total params: 1,199,882\n",
            "Trainable params: 1,199,882\n",
            "Non-trainable params: 0\n",
            "_________________________________________________________________\n"
          ]
        }
      ]
    },
    {
      "cell_type": "code",
      "source": [
        "model.compile(loss='sparse_categorical_crossentropy', optimizer='adam', metrics=['sparse_categorical_accuracy'] )"
      ],
      "metadata": {
        "id": "g8XIgbXFYY68"
      },
      "execution_count": null,
      "outputs": []
    },
    {
      "cell_type": "markdown",
      "source": [
        "# Step 4: Training model"
      ],
      "metadata": {
        "id": "NB35sYoSZd_p"
      }
    },
    {
      "cell_type": "code",
      "source": [
        "history = model.fit(x_train, y_train, batch_size=128, epochs=10, validation_data=(x_test, y_test))"
      ],
      "metadata": {
        "colab": {
          "base_uri": "https://localhost:8080/"
        },
        "id": "ivWL6xQHZhzx",
        "outputId": "826cf2fb-64f2-4aff-a359-a46ab5554220"
      },
      "execution_count": null,
      "outputs": [
        {
          "output_type": "stream",
          "name": "stdout",
          "text": [
            "Epoch 1/10\n",
            "469/469 [==============================] - 156s 328ms/step - loss: 0.1674 - sparse_categorical_accuracy: 0.9502 - val_loss: 0.0475 - val_sparse_categorical_accuracy: 0.9852\n",
            "Epoch 2/10\n",
            "469/469 [==============================] - 146s 311ms/step - loss: 0.0514 - sparse_categorical_accuracy: 0.9846 - val_loss: 0.0359 - val_sparse_categorical_accuracy: 0.9874\n",
            "Epoch 3/10\n",
            "469/469 [==============================] - 145s 308ms/step - loss: 0.0354 - sparse_categorical_accuracy: 0.9887 - val_loss: 0.0296 - val_sparse_categorical_accuracy: 0.9903\n",
            "Epoch 4/10\n",
            "469/469 [==============================] - 145s 309ms/step - loss: 0.0272 - sparse_categorical_accuracy: 0.9912 - val_loss: 0.0298 - val_sparse_categorical_accuracy: 0.9897\n",
            "Epoch 5/10\n",
            "469/469 [==============================] - 144s 307ms/step - loss: 0.0213 - sparse_categorical_accuracy: 0.9930 - val_loss: 0.0369 - val_sparse_categorical_accuracy: 0.9884\n",
            "Epoch 6/10\n",
            "469/469 [==============================] - 144s 308ms/step - loss: 0.0171 - sparse_categorical_accuracy: 0.9944 - val_loss: 0.0296 - val_sparse_categorical_accuracy: 0.9900\n",
            "Epoch 7/10\n",
            "469/469 [==============================] - 144s 308ms/step - loss: 0.0139 - sparse_categorical_accuracy: 0.9952 - val_loss: 0.0359 - val_sparse_categorical_accuracy: 0.9901\n",
            "Epoch 8/10\n",
            "469/469 [==============================] - 143s 306ms/step - loss: 0.0138 - sparse_categorical_accuracy: 0.9953 - val_loss: 0.0340 - val_sparse_categorical_accuracy: 0.9915\n",
            "Epoch 9/10\n",
            "469/469 [==============================] - 145s 308ms/step - loss: 0.0106 - sparse_categorical_accuracy: 0.9964 - val_loss: 0.0325 - val_sparse_categorical_accuracy: 0.9903\n",
            "Epoch 10/10\n",
            "469/469 [==============================] - 144s 308ms/step - loss: 0.0089 - sparse_categorical_accuracy: 0.9969 - val_loss: 0.0322 - val_sparse_categorical_accuracy: 0.9913\n"
          ]
        }
      ]
    },
    {
      "cell_type": "code",
      "source": [
        "# model prediction\n",
        "y_pred = model.predict(x_test)\n",
        "y_pred = np.argmax(y_pred, axis=-1)"
      ],
      "metadata": {
        "id": "FRJxIlbf8nWJ"
      },
      "execution_count": null,
      "outputs": []
    },
    {
      "cell_type": "code",
      "source": [
        "y_pred[3], y_test[3]"
      ],
      "metadata": {
        "colab": {
          "base_uri": "https://localhost:8080/"
        },
        "id": "x8oFt4taDIDf",
        "outputId": "b02cd83d-270e-4afc-a104-6981c6806c02"
      },
      "execution_count": null,
      "outputs": [
        {
          "output_type": "execute_result",
          "data": {
            "text/plain": [
              "(0, 0)"
            ]
          },
          "metadata": {},
          "execution_count": 25
        }
      ]
    },
    {
      "cell_type": "code",
      "source": [
        "y_pred[15], y_test[15]"
      ],
      "metadata": {
        "colab": {
          "base_uri": "https://localhost:8080/"
        },
        "id": "c0jtz0KwD4LX",
        "outputId": "a901f229-1f4e-42f5-b272-b09d5ba479c3"
      },
      "execution_count": null,
      "outputs": [
        {
          "output_type": "execute_result",
          "data": {
            "text/plain": [
              "(5, 5)"
            ]
          },
          "metadata": {},
          "execution_count": 26
        }
      ]
    },
    {
      "cell_type": "code",
      "source": [
        "y_pred[3], y_test[3]"
      ],
      "metadata": {
        "id": "aQjaJyDCD88F",
        "colab": {
          "base_uri": "https://localhost:8080/"
        },
        "outputId": "143e9fb0-4464-4472-c0ee-4f200ca10e05"
      },
      "execution_count": null,
      "outputs": [
        {
          "output_type": "execute_result",
          "data": {
            "text/plain": [
              "(0, 0)"
            ]
          },
          "metadata": {},
          "execution_count": 27
        }
      ]
    },
    {
      "cell_type": "code",
      "source": [
        "# confusion matrix\n",
        "# columns are predicted values\n",
        "# rows actual values\n",
        "# diagnal correct prediction\n",
        "\n",
        "from sklearn.metrics import confusion_matrix, accuracy_score\n",
        "\n",
        "cm = confusion_matrix(y_test, y_pred)\n",
        "print(cm)\n",
        "\n"
      ],
      "metadata": {
        "colab": {
          "base_uri": "https://localhost:8080/"
        },
        "id": "8khfE4VmBphu",
        "outputId": "f3a5060c-9db3-4325-ac6a-b1e4d4307d79"
      },
      "execution_count": null,
      "outputs": [
        {
          "output_type": "stream",
          "name": "stdout",
          "text": [
            "[[ 972    0    1    0    0    1    4    0    1    1]\n",
            " [   0 1134    0    0    0    0    1    0    0    0]\n",
            " [   2    0 1017    1    3    0    0    7    2    0]\n",
            " [   0    0    1 1005    0    2    0    1    1    0]\n",
            " [   0    0    0    0  978    0    0    0    1    3]\n",
            " [   0    1    1    7    0  878    4    0    1    0]\n",
            " [   1    3    0    0    1    1  951    0    1    0]\n",
            " [   0    1    5    0    1    0    0 1017    1    3]\n",
            " [   1    1    1    0    0    1    0    1  967    2]\n",
            " [   0    1    0    2    7    4    0    0    1  994]]\n"
          ]
        }
      ]
    },
    {
      "cell_type": "code",
      "source": [
        "acc_cm = accuracy_score(y_test, y_pred)\n",
        "print(acc_cm)"
      ],
      "metadata": {
        "colab": {
          "base_uri": "https://localhost:8080/"
        },
        "id": "7_-H_tbzEPlD",
        "outputId": "8d606e7a-926c-4875-d271-60f8714a1db0"
      },
      "execution_count": null,
      "outputs": [
        {
          "output_type": "stream",
          "name": "stdout",
          "text": [
            "0.9913\n"
          ]
        }
      ]
    },
    {
      "cell_type": "markdown",
      "source": [
        "# Step 5: Learning Curve"
      ],
      "metadata": {
        "id": "PQf7IQFPEfPJ"
      }
    },
    {
      "cell_type": "code",
      "source": [
        "def learning_curve(history, epoch):\n",
        "  # training vs validation accuracy\n",
        "  epoch_range = range(1, epoch+1)\n",
        "  plt.plot(epoch_range, history.history['sparse_categorical_accuracy'])\n",
        "  plt.plot(epoch_range, history.history['val_sparse_categorical_accuracy'])\n",
        "\n",
        "  plt.title('Model Accuracy')\n",
        "  plt.ylabel('Accuracy')\n",
        "  plt.xlabel('Epoch')\n",
        "  plt.legend(['Train', 'Val'], loc='upper left')\n",
        "  plt.show()\n",
        "\n",
        "  # training vs validation loss\n",
        "  epoch_range = range(1, epoch+1)\n",
        "  plt.plot(epoch_range, history.history['loss'])\n",
        "  plt.plot(epoch_range, history.history['val_loss'])\n",
        "\n",
        "  plt.title('Model Accuracy')\n",
        "  plt.ylabel('loss')\n",
        "  plt.xlabel('Epoch')\n",
        "  plt.legend(['Train', 'Val'], loc='upper left')\n",
        "  plt.show()"
      ],
      "metadata": {
        "id": "gz7BcioWEiP5"
      },
      "execution_count": null,
      "outputs": []
    },
    {
      "cell_type": "code",
      "source": [
        "learning_curve(history, 10)"
      ],
      "metadata": {
        "colab": {
          "base_uri": "https://localhost:8080/",
          "height": 573
        },
        "id": "GQ_-hbFEEp5c",
        "outputId": "030ecf5f-2102-4a8c-f535-5657ae1199bb"
      },
      "execution_count": null,
      "outputs": [
        {
          "output_type": "display_data",
          "data": {
            "text/plain": [
              "<Figure size 432x288 with 1 Axes>"
            ],
            "image/png": "[encoded data removed]"
          },
          "metadata": {
            "needs_background": "light"
          }
        },
        {
          "output_type": "display_data",
          "data": {
            "text/plain": [
              "<Figure size 432x288 with 1 Axes>"
            ],
            "image/png": "[encoded data removed]"
          },
          "metadata": {
            "needs_background": "light"
          }
        }
      ]
    }
  ]
}