{
  "nbformat": 4,
  "nbformat_minor": 0,
  "metadata": {
    "colab": {
      "provenance": [],
      "authorship_tag": "ABX9TyPQoWBk1/PItmi9Diq236VU",
      "include_colab_link": true
    },
    "kernelspec": {
      "name": "python3",
      "display_name": "Python 3"
    },
    "language_info": {
      "name": "python"
    }
  },
  "cells": [
    {
      "cell_type": "markdown",
      "metadata": {
        "id": "view-in-github",
        "colab_type": "text"
      },
      "source": [
        "<a href=\"https://colab.research.google.com/github/arjangvt/CodeFolio/blob/main/ML/TimeSeries/BasicStockTrading(Forecasting).ipynb\" target=\"_parent\"><img src=\"https://colab.research.google.com/assets/colab-badge.svg\" alt=\"Open In Colab\"/></a>"
      ]
    },
    {
      "cell_type": "markdown",
      "source": [
        "This tutorials show how we can use Stock data and time series to develope a forecasting trading strategy \n",
        "<br><br>\n",
        "---\n",
        "\n",
        "Written by: Arjang Fahim <br>\n",
        "Date: 4/10/2022 <br>\n",
        "Last update: 9/1/2022"
      ],
      "metadata": {
        "id": "smn7fNU0rbWc"
      }
    },
    {
      "cell_type": "code",
      "execution_count": 40,
      "metadata": {
        "colab": {
          "base_uri": "https://localhost:8080/"
        },
        "id": "cL9LWx8UrYgM",
        "outputId": "96bcb0d7-5839-437a-b71b-e803936215bb"
      },
      "outputs": [
        {
          "output_type": "stream",
          "name": "stdout",
          "text": [
            "Looking in indexes: https://pypi.org/simple, https://us-python.pkg.dev/colab-wheels/public/simple/\n",
            "Requirement already satisfied: yfinance in /usr/local/lib/python3.7/dist-packages (0.1.74)\n",
            "Requirement already satisfied: pandas>=0.24.0 in /usr/local/lib/python3.7/dist-packages (from yfinance) (1.3.5)\n",
            "Requirement already satisfied: requests>=2.26 in /usr/local/lib/python3.7/dist-packages (from yfinance) (2.28.1)\n",
            "Requirement already satisfied: lxml>=4.5.1 in /usr/local/lib/python3.7/dist-packages (from yfinance) (4.9.1)\n",
            "Requirement already satisfied: numpy>=1.15 in /usr/local/lib/python3.7/dist-packages (from yfinance) (1.21.6)\n",
            "Requirement already satisfied: multitasking>=0.0.7 in /usr/local/lib/python3.7/dist-packages (from yfinance) (0.0.11)\n",
            "Requirement already satisfied: pytz>=2017.3 in /usr/local/lib/python3.7/dist-packages (from pandas>=0.24.0->yfinance) (2022.2.1)\n",
            "Requirement already satisfied: python-dateutil>=2.7.3 in /usr/local/lib/python3.7/dist-packages (from pandas>=0.24.0->yfinance) (2.8.2)\n",
            "Requirement already satisfied: six>=1.5 in /usr/local/lib/python3.7/dist-packages (from python-dateutil>=2.7.3->pandas>=0.24.0->yfinance) (1.15.0)\n",
            "Requirement already satisfied: urllib3<1.27,>=1.21.1 in /usr/local/lib/python3.7/dist-packages (from requests>=2.26->yfinance) (1.24.3)\n",
            "Requirement already satisfied: charset-normalizer<3,>=2 in /usr/local/lib/python3.7/dist-packages (from requests>=2.26->yfinance) (2.1.1)\n",
            "Requirement already satisfied: idna<4,>=2.5 in /usr/local/lib/python3.7/dist-packages (from requests>=2.26->yfinance) (2.10)\n",
            "Requirement already satisfied: certifi>=2017.4.17 in /usr/local/lib/python3.7/dist-packages (from requests>=2.26->yfinance) (2022.6.15)\n"
          ]
        }
      ],
      "source": [
        "!pip install yfinance\n",
        "import yfinance as yf\n",
        "import matplotlib.pyplot as plt\n",
        "import pandas as pd\n",
        "from datetime import datetime, timedelta"
      ]
    },
    {
      "cell_type": "code",
      "source": [
        "#define the ticker symbol\n",
        "tickerSymbol = 'MSFT'"
      ],
      "metadata": {
        "id": "WGuuVPR8sdJN"
      },
      "execution_count": 41,
      "outputs": []
    },
    {
      "cell_type": "code",
      "source": [
        "#get data on this ticker\n",
        "tickerData = yf.Ticker(tickerSymbol)"
      ],
      "metadata": {
        "id": "CXu2zwHjseyV"
      },
      "execution_count": 42,
      "outputs": []
    },
    {
      "cell_type": "code",
      "source": [
        "#get the historical prices for this ticker\n",
        "tickerDf = tickerData.history(interval='1d', start='2019-1-1', end='2020-4-10')"
      ],
      "metadata": {
        "id": "HbryfKT8sg0e"
      },
      "execution_count": 43,
      "outputs": []
    },
    {
      "cell_type": "code",
      "source": [
        "priceData = tickerDf.Open"
      ],
      "metadata": {
        "id": "TKRYGMKysiVi"
      },
      "execution_count": 44,
      "outputs": []
    },
    {
      "cell_type": "code",
      "source": [
        "priceData = priceData.asfreq(pd.infer_freq(priceData.index))"
      ],
      "metadata": {
        "id": "e7qYi4SHskHQ"
      },
      "execution_count": 45,
      "outputs": []
    },
    {
      "cell_type": "code",
      "source": [
        "priceData"
      ],
      "metadata": {
        "colab": {
          "base_uri": "https://localhost:8080/"
        },
        "id": "L5ZGCa3Qslo5",
        "outputId": "44151545-500c-4904-9bf5-82ab636cac6f"
      },
      "execution_count": 46,
      "outputs": [
        {
          "output_type": "execute_result",
          "data": {
            "text/plain": [
              "Date\n",
              "2019-01-02     95.639380\n",
              "2019-01-03     96.167770\n",
              "2019-01-04     95.802697\n",
              "2019-01-05           NaN\n",
              "2019-01-06           NaN\n",
              "                 ...    \n",
              "2020-04-05           NaN\n",
              "2020-04-06    156.726477\n",
              "2020-04-07    165.788686\n",
              "2020-04-08    161.956539\n",
              "2020-04-09    162.631071\n",
              "Freq: D, Name: Open, Length: 464, dtype: float64"
            ]
          },
          "metadata": {},
          "execution_count": 46
        }
      ]
    },
    {
      "cell_type": "code",
      "source": [
        "plt.figure(figsize=(10,4))\n",
        "plt.plot(priceData)\n",
        "for year in range(priceData.index[0].year, priceData.index[-1].year+1):\n",
        "    plt.axvline(datetime(year,1,1), color='k', linestyle='--', alpha=0.2)\n",
        "plt.title(\"%s Price Data\"%tickerSymbol, fontsize=20)"
      ],
      "metadata": {
        "colab": {
          "base_uri": "https://localhost:8080/",
          "height": 303
        },
        "id": "Jr91uVtDsnvd",
        "outputId": "46c4176c-27be-4833-fd0d-1d824c511696"
      },
      "execution_count": 47,
      "outputs": [
        {
          "output_type": "execute_result",
          "data": {
            "text/plain": [
              "Text(0.5, 1.0, 'MSFT Price Data')"
            ]
          },
          "metadata": {},
          "execution_count": 47
        },
        {
          "output_type": "display_data",
          "data": {
            "text/plain": [
              "<Figure size 720x288 with 1 Axes>"
            ],
            "image/png": "[encoded data removed]"
          },
          "metadata": {
            "needs_background": "light"
          }
        }
      ]
    },
    {
      "cell_type": "markdown",
      "source": [
        "**Basic Buying Protocol:**<br>\n",
        "**- Buy if stock increasing for \"b\" consecutive days**\n",
        "\n",
        "**Basic Selling Protocols:**<br>\n",
        "**- Sell if stock decreasing for \"s\" consecutive days (and we've made a profit)**"
      ],
      "metadata": {
        "id": "t_XIL-54sxFS"
      }
    },
    {
      "cell_type": "code",
      "source": [
        "def get_buying_selling_days(price_data, b, s):\n",
        "    \n",
        "    #get the percent change day after day\n",
        "    pct_change = price_data.pct_change()[1:]\n",
        "    \n",
        "    #this function checks the buying condition\n",
        "    def buying_condition(sub_series):\n",
        "        return (sub_series > 0).all()\n",
        "    \n",
        "    #this function checks the selling condition\n",
        "    def selling_condition(sub_series):\n",
        "        return (sub_series < 0).all()\n",
        "    \n",
        "    #get all buying days in the data\n",
        "    buying_days = pct_change.rolling(b).apply(buying_condition)\n",
        "    \n",
        "    #get all potential selling days in the data\n",
        "    potential_selling_days = pct_change.rolling(s).apply(selling_condition)\n",
        "    \n",
        "    #return a dictionary\n",
        "    return {'buying_days': buying_days, 'potential_selling_days': potential_selling_days}"
      ],
      "metadata": {
        "id": "Tkv8e8vqswlp"
      },
      "execution_count": 48,
      "outputs": []
    },
    {
      "cell_type": "code",
      "source": [
        "info_dict = get_buying_selling_days(priceData, 4, 1)"
      ],
      "metadata": {
        "id": "XvCnbrXEtOn8"
      },
      "execution_count": 49,
      "outputs": []
    },
    {
      "cell_type": "code",
      "source": [
        "buying_days = info_dict['buying_days']\n",
        "potential_selling_days = info_dict['potential_selling_days']"
      ],
      "metadata": {
        "id": "6UhdShxYtQr7"
      },
      "execution_count": 50,
      "outputs": []
    },
    {
      "cell_type": "code",
      "source": [
        "#create dataframe to store information\n",
        "df_stocks = pd.DataFrame(index = buying_days.index)"
      ],
      "metadata": {
        "id": "JPcby9WztSgz"
      },
      "execution_count": 51,
      "outputs": []
    },
    {
      "cell_type": "code",
      "source": [
        "#populate df with buying days, possible selling days, and price\n",
        "df_stocks['buying_day'] = (buying_days == 1)\n",
        "df_stocks['potential_selling_day'] = (potential_selling_days == 1)\n",
        "df_stocks['price'] = priceData\n",
        "\n",
        "#only keep days that are buying or possible selling days\n",
        "df_stocks = df_stocks[(df_stocks.buying_day | df_stocks.potential_selling_day)]"
      ],
      "metadata": {
        "id": "J4mK9BpztUom"
      },
      "execution_count": 52,
      "outputs": []
    },
    {
      "cell_type": "code",
      "source": [
        "df_stocks.head(10)"
      ],
      "metadata": {
        "colab": {
          "base_uri": "https://localhost:8080/",
          "height": 394
        },
        "id": "Q5Uj_fzGtWaH",
        "outputId": "b4575f6c-049a-447b-e598-33aaba36c9c0"
      },
      "execution_count": 59,
      "outputs": [
        {
          "output_type": "execute_result",
          "data": {
            "text/plain": [
              "            buying_day  potential_selling_day       price\n",
              "Date                                                     \n",
              "2019-01-04       False                   True   95.802697\n",
              "2019-01-10       False                   True   99.165226\n",
              "2019-01-11       False                   True   99.136375\n",
              "2019-01-14       False                   True   97.897067\n",
              "2019-01-17       False                   True  100.875303\n",
              "2019-01-22       False                   True  102.556539\n",
              "2019-01-23       False                   True  101.951293\n",
              "2019-01-28       False                   True  102.085810\n",
              "2019-01-29       False                   True  100.759980\n",
              "2019-01-30       False                   True  100.510216"
            ],
            "text/html": [
              "\n",
              "  <div id=\"df-e5d9dbe9-857a-4823-922d-3ff6a33138db\">\n",
              "    <div class=\"colab-df-container\">\n",
              "      <div>\n",
              "<style scoped>\n",
              "    .dataframe tbody tr th:only-of-type {\n",
              "        vertical-align: middle;\n",
              "    }\n",
              "\n",
              "    .dataframe tbody tr th {\n",
              "        vertical-align: top;\n",
              "    }\n",
              "\n",
              "    .dataframe thead th {\n",
              "        text-align: right;\n",
              "    }\n",
              "</style>\n",
              "<table border=\"1\" class=\"dataframe\">\n",
              "  <thead>\n",
              "    <tr style=\"text-align: right;\">\n",
              "      <th></th>\n",
              "      <th>buying_day</th>\n",
              "      <th>potential_selling_day</th>\n",
              "      <th>price</th>\n",
              "    </tr>\n",
              "    <tr>\n",
              "      <th>Date</th>\n",
              "      <th></th>\n",
              "      <th></th>\n",
              "      <th></th>\n",
              "    </tr>\n",
              "  </thead>\n",
              "  <tbody>\n",
              "    <tr>\n",
              "      <th>2019-01-04</th>\n",
              "      <td>False</td>\n",
              "      <td>True</td>\n",
              "      <td>95.802697</td>\n",
              "    </tr>\n",
              "    <tr>\n",
              "      <th>2019-01-10</th>\n",
              "      <td>False</td>\n",
              "      <td>True</td>\n",
              "      <td>99.165226</td>\n",
              "    </tr>\n",
              "    <tr>\n",
              "      <th>2019-01-11</th>\n",
              "      <td>False</td>\n",
              "      <td>True</td>\n",
              "      <td>99.136375</td>\n",
              "    </tr>\n",
              "    <tr>\n",
              "      <th>2019-01-14</th>\n",
              "      <td>False</td>\n",
              "      <td>True</td>\n",
              "      <td>97.897067</td>\n",
              "    </tr>\n",
              "    <tr>\n",
              "      <th>2019-01-17</th>\n",
              "      <td>False</td>\n",
              "      <td>True</td>\n",
              "      <td>100.875303</td>\n",
              "    </tr>\n",
              "    <tr>\n",
              "      <th>2019-01-22</th>\n",
              "      <td>False</td>\n",
              "      <td>True</td>\n",
              "      <td>102.556539</td>\n",
              "    </tr>\n",
              "    <tr>\n",
              "      <th>2019-01-23</th>\n",
              "      <td>False</td>\n",
              "      <td>True</td>\n",
              "      <td>101.951293</td>\n",
              "    </tr>\n",
              "    <tr>\n",
              "      <th>2019-01-28</th>\n",
              "      <td>False</td>\n",
              "      <td>True</td>\n",
              "      <td>102.085810</td>\n",
              "    </tr>\n",
              "    <tr>\n",
              "      <th>2019-01-29</th>\n",
              "      <td>False</td>\n",
              "      <td>True</td>\n",
              "      <td>100.759980</td>\n",
              "    </tr>\n",
              "    <tr>\n",
              "      <th>2019-01-30</th>\n",
              "      <td>False</td>\n",
              "      <td>True</td>\n",
              "      <td>100.510216</td>\n",
              "    </tr>\n",
              "  </tbody>\n",
              "</table>\n",
              "</div>\n",
              "      <button class=\"colab-df-convert\" onclick=\"convertToInteractive('df-e5d9dbe9-857a-4823-922d-3ff6a33138db')\"\n",
              "              title=\"Convert this dataframe to an interactive table.\"\n",
              "              style=\"display:none;\">\n",
              "        \n",
              "  <svg xmlns=\"http://www.w3.org/2000/svg\" height=\"24px\"viewBox=\"0 0 24 24\"\n",
              "       width=\"24px\">\n",
              "    <path d=\"M0 0h24v24H0V0z\" fill=\"none\"/>\n",
              "    <path d=\"M18.56 5.44l.94 2.06.94-2.06 2.06-.94-2.06-.94-.94-2.06-.94 2.06-2.06.94zm-11 1L8.5 8.5l.94-2.06 2.06-.94-2.06-.94L8.5 2.5l-.94 2.06-2.06.94zm10 10l.94 2.06.94-2.06 2.06-.94-2.06-.94-.94-2.06-.94 2.06-2.06.94z\"/><path d=\"M17.41 7.96l-1.37-1.37c-.4-.4-.92-.59-1.43-.59-.52 0-1.04.2-1.43.59L10.3 9.45l-7.72 7.72c-.78.78-.78 2.05 0 2.83L4 21.41c.39.39.9.59 1.41.59.51 0 1.02-.2 1.41-.59l7.78-7.78 2.81-2.81c.8-.78.8-2.07 0-2.86zM5.41 20L4 18.59l7.72-7.72 1.47 1.35L5.41 20z\"/>\n",
              "  </svg>\n",
              "      </button>\n",
              "      \n",
              "  <style>\n",
              "    .colab-df-container {\n",
              "      display:flex;\n",
              "      flex-wrap:wrap;\n",
              "      gap: 12px;\n",
              "    }\n",
              "\n",
              "    .colab-df-convert {\n",
              "      background-color: #E8F0FE;\n",
              "      border: none;\n",
              "      border-radius: 50%;\n",
              "      cursor: pointer;\n",
              "      display: none;\n",
              "      fill: #1967D2;\n",
              "      height: 32px;\n",
              "      padding: 0 0 0 0;\n",
              "      width: 32px;\n",
              "    }\n",
              "\n",
              "    .colab-df-convert:hover {\n",
              "      background-color: #E2EBFA;\n",
              "      box-shadow: 0px 1px 2px rgba(60, 64, 67, 0.3), 0px 1px 3px 1px rgba(60, 64, 67, 0.15);\n",
              "      fill: #174EA6;\n",
              "    }\n",
              "\n",
              "    [theme=dark] .colab-df-convert {\n",
              "      background-color: #3B4455;\n",
              "      fill: #D2E3FC;\n",
              "    }\n",
              "\n",
              "    [theme=dark] .colab-df-convert:hover {\n",
              "      background-color: #434B5C;\n",
              "      box-shadow: 0px 1px 3px 1px rgba(0, 0, 0, 0.15);\n",
              "      filter: drop-shadow(0px 1px 2px rgba(0, 0, 0, 0.3));\n",
              "      fill: #FFFFFF;\n",
              "    }\n",
              "  </style>\n",
              "\n",
              "      <script>\n",
              "        const buttonEl =\n",
              "          document.querySelector('#df-e5d9dbe9-857a-4823-922d-3ff6a33138db button.colab-df-convert');\n",
              "        buttonEl.style.display =\n",
              "          google.colab.kernel.accessAllowed ? 'block' : 'none';\n",
              "\n",
              "        async function convertToInteractive(key) {\n",
              "          const element = document.querySelector('#df-e5d9dbe9-857a-4823-922d-3ff6a33138db');\n",
              "          const dataTable =\n",
              "            await google.colab.kernel.invokeFunction('convertToInteractive',\n",
              "                                                     [key], {});\n",
              "          if (!dataTable) return;\n",
              "\n",
              "          const docLinkHtml = 'Like what you see? Visit the ' +\n",
              "            '<a target=\"_blank\" href=https://colab.research.google.com/notebooks/data_table.ipynb>data table notebook</a>'\n",
              "            + ' to learn more about interactive tables.';\n",
              "          element.innerHTML = '';\n",
              "          dataTable['output_type'] = 'display_data';\n",
              "          await google.colab.output.renderOutput(dataTable, element);\n",
              "          const docLink = document.createElement('div');\n",
              "          docLink.innerHTML = docLinkHtml;\n",
              "          element.appendChild(docLink);\n",
              "        }\n",
              "      </script>\n",
              "    </div>\n",
              "  </div>\n",
              "  "
            ]
          },
          "metadata": {},
          "execution_count": 59
        }
      ]
    },
    {
      "cell_type": "code",
      "source": [
        "def check_cumulative_percent_change(price_data, buy_date, potential_sell_date):\n",
        "    \"\"\"\n",
        "    This helper function will check if the cumulative percent change\n",
        "    between a buying and potential selling day yields overall growth\n",
        "    \"\"\"\n",
        "    \n",
        "    #get the percent change day after day\n",
        "    pct_change = price_data.pct_change()[1:]\n",
        "    \n",
        "    sub_series = 1 + pct_change[buy_date + timedelta(hours=1): potential_sell_date]\n",
        "\n",
        "    return sub_series.product() > 1"
      ],
      "metadata": {
        "id": "6h7dLDhHtZlM"
      },
      "execution_count": 54,
      "outputs": []
    },
    {
      "cell_type": "code",
      "source": [
        "def get_investing_result(df_stocks, starting_funds, verbose=False):\n",
        "    \n",
        "    #get a copy of price data\n",
        "    price_data = df_stocks.price\n",
        "    \n",
        "    #at start, not holding any shares\n",
        "    holding = False\n",
        "    \n",
        "    #init vars\n",
        "    current_funds = starting_funds\n",
        "    current_shares = 0\n",
        "    last_buy_date = None\n",
        "    \n",
        "    #init dict of buying and selling dates\n",
        "    events_list = []\n",
        "    \n",
        "    #for each buying day and potential selling day...\n",
        "    for date,data in df_stocks.iterrows():\n",
        "        \n",
        "        #if not currently holding shares, and this is a buying day...\n",
        "        if (not holding) and data.buying_day:\n",
        "            \n",
        "            #calculate the number of shares we can buy\n",
        "            num_shares_to_buy = int(current_funds / data.price)\n",
        "            \n",
        "            #update number of shares\n",
        "            current_shares += num_shares_to_buy\n",
        "            \n",
        "            #decrease current funds\n",
        "            current_funds -= num_shares_to_buy * data.price\n",
        "            \n",
        "            #set last buy date\n",
        "            last_buy_date = date\n",
        "            events_list.append(('b', date))\n",
        "            \n",
        "            #we are now holding shares\n",
        "            holding = True\n",
        "            \n",
        "            if verbose:\n",
        "                print('Bought %s shares at $%s on %s totaling $%s'%(num_shares_to_buy, data.price, date.date(), round(num_shares_to_buy*data.price,2)))\n",
        "        \n",
        "        #if you are holding shares, and this is a potential selling day...\n",
        "        elif holding and data.potential_selling_day:\n",
        "            \n",
        "            #check to make sure we're making a profit\n",
        "            if check_cumulative_percent_change(price_data, last_buy_date, date):\n",
        "                #add to our current funds\n",
        "                current_funds += current_shares * data.price\n",
        "                \n",
        "                if verbose:\n",
        "                    print('Sold %s shares at $%s on %s totaling $%s'%(current_shares, data.price, date.date(), round(num_shares_to_buy*data.price,2)))\n",
        "                    print('--------------------------------------')\n",
        "                    \n",
        "                #reset current shares\n",
        "                current_shares = 0\n",
        "                \n",
        "                #we are no longer holding shares\n",
        "                holding = False\n",
        "                \n",
        "                events_list.append(('s', date))\n",
        "                \n",
        "    #get the stock price at the end of the time span\n",
        "    final_stock_price = price_data[-1]\n",
        "        \n",
        "    #get the final total value of all assets (funds + stock value)\n",
        "    final_value = current_funds + final_stock_price * current_shares\n",
        "    \n",
        "    #return the percent change in value\n",
        "    return round((final_value - starting_funds) / starting_funds,2), events_list"
      ],
      "metadata": {
        "id": "chhT5bs3td0D"
      },
      "execution_count": 55,
      "outputs": []
    },
    {
      "cell_type": "code",
      "source": [
        "percent_change, events_list = get_investing_result(df_stocks, 10000, True)"
      ],
      "metadata": {
        "colab": {
          "base_uri": "https://localhost:8080/"
        },
        "id": "isVExdq0tf7v",
        "outputId": "567bd383-c70e-4999-fcc3-32627edb62e7"
      },
      "execution_count": 56,
      "outputs": [
        {
          "output_type": "stream",
          "name": "stdout",
          "text": [
            "Bought 90 shares at $110.51046398671623 on 2019-03-14 totaling $9945.94\n",
            "Sold 90 shares at $113.26020381359048 on 2019-03-20 totaling $10193.42\n",
            "--------------------------------------\n",
            "Bought 88 shares at $115.87486859606864 on 2019-04-04 totaling $10196.99\n",
            "Sold 88 shares at $116.97476113916305 on 2019-04-17 totaling $10293.78\n",
            "--------------------------------------\n",
            "Bought 82 shares at $125.48446541340556 on 2019-04-25 totaling $10289.73\n",
            "Sold 82 shares at $127.24665005438152 on 2019-06-12 totaling $10434.23\n",
            "--------------------------------------\n",
            "Bought 78 shares at $133.10541158072 on 2019-06-20 totaling $10382.22\n",
            "Sold 78 shares at $134.56768147208402 on 2019-07-16 totaling $10496.28\n",
            "--------------------------------------\n",
            "Bought 78 shares at $134.72425887985733 on 2019-08-22 totaling $10508.49\n",
            "Sold 78 shares at $135.62790659695168 on 2019-09-09 totaling $10578.98\n",
            "--------------------------------------\n",
            "Bought 77 shares at $137.00760759901866 on 2019-09-20 totaling $10549.59\n",
            "Sold 77 shares at $139.99046015916795 on 2019-10-29 totaling $10779.27\n",
            "--------------------------------------\n",
            "Bought 76 shares at $142.84699349910142 on 2019-11-14 totaling $10856.37\n",
            "Sold 76 shares at $146.54057293288784 on 2019-11-20 totaling $11137.08\n",
            "--------------------------------------\n",
            "Bought 75 shares at $147.84695700396836 on 2019-12-12 totaling $11088.52\n",
            "Sold 75 shares at $150.43051195475303 on 2019-12-18 totaling $11282.29\n",
            "--------------------------------------\n"
          ]
        }
      ]
    },
    {
      "cell_type": "code",
      "source": [
        "print(percent_change)"
      ],
      "metadata": {
        "colab": {
          "base_uri": "https://localhost:8080/"
        },
        "id": "0NPFnDEythp7",
        "outputId": "217438f7-b6e6-42a7-a520-aac3af165b34"
      },
      "execution_count": 57,
      "outputs": [
        {
          "output_type": "stream",
          "name": "stdout",
          "text": [
            "0.14\n"
          ]
        }
      ]
    },
    {
      "cell_type": "code",
      "source": [
        "plt.figure(figsize=(10,4))\n",
        "plt.plot(priceData)\n",
        "\n",
        "y_lims = (int(priceData.min()*.95), int(priceData.max()*1.05))\n",
        "shaded_y_lims = int(priceData.min()*.5), int(priceData.max()*1.5)\n",
        "\n",
        "for idx, event in enumerate(events_list):\n",
        "    color = 'red' if event[0] == 'b' else 'blue'\n",
        "    plt.axvline(event[1], color=color, linestyle='--', alpha=0.4)\n",
        "    if event[0] == 's':\n",
        "        plt.fill_betweenx(range(*shaded_y_lims), \n",
        "                          event[1], events_list[idx-1][1], color='k', alpha=0.1)\n",
        "\n",
        "plt.title(\"%s Price Data\"%tickerSymbol, fontsize=20)\n",
        "plt.ylim(*y_lims)"
      ],
      "metadata": {
        "colab": {
          "base_uri": "https://localhost:8080/",
          "height": 303
        },
        "id": "TU341A8FtjX_",
        "outputId": "0317f07d-aa4f-4645-98bf-795486aaaedb"
      },
      "execution_count": 58,
      "outputs": [
        {
          "output_type": "execute_result",
          "data": {
            "text/plain": [
              "(90.0, 195.0)"
            ]
          },
          "metadata": {},
          "execution_count": 58
        },
        {
          "output_type": "display_data",
          "data": {
            "text/plain": [
              "<Figure size 720x288 with 1 Axes>"
            ],
            "image/png": "[encoded data removed]"
          },
          "metadata": {
            "needs_background": "light"
          }
        }
      ]
    }
  ]
}