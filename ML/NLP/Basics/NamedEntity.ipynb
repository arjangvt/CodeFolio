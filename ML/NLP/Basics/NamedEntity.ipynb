{
  "nbformat": 4,
  "nbformat_minor": 0,
  "metadata": {
    "colab": {
      "name": "NamedEntity.ipynb",
      "provenance": [],
      "collapsed_sections": [],
      "toc_visible": true,
      "authorship_tag": "ABX9TyNSW6yMWQuaQzS/ssh/cEr3",
      "include_colab_link": true
    },
    "kernelspec": {
      "name": "python3",
      "display_name": "Python 3"
    },
    "language_info": {
      "name": "python"
    }
  },
  "cells": [
    {
      "cell_type": "markdown",
      "metadata": {
        "id": "view-in-github",
        "colab_type": "text"
      },
      "source": [
        "<a href=\"https://colab.research.google.com/github/arjangvt/CodeFolio/blob/main/ML/NLP/Basics/NamedEntity.ipynb\" target=\"_parent\"><img src=\"https://colab.research.google.com/assets/colab-badge.svg\" alt=\"Open In Colab\"/></a>"
      ]
    },
    {
      "cell_type": "markdown",
      "source": [
        "Here I use NLTK for basic text and language process.\n",
        "I use these examples as my own references.\n",
        "\n",
        "Note:\n",
        "Typically if you install nltk on your personal computer, you don't need to install each package separately (See NLTK installation colab file). Since Colab does not hold the installation we have to install nesessary packages separately.\n",
        "Written by: Arjang Fahim Date: 3/19/2018"
      ],
      "metadata": {
        "id": "_MbrgEf4_tJA"
      }
    },
    {
      "cell_type": "markdown",
      "source": [
        "# Named Entity"
      ],
      "metadata": {
        "id": "5lAF8SyS_1La"
      }
    },
    {
      "cell_type": "code",
      "execution_count": null,
      "metadata": {
        "id": "E58IFDxB-bkp"
      },
      "outputs": [],
      "source": [
        "# Name entity recognition"
      ]
    },
    {
      "cell_type": "code",
      "source": [
        "import nltk \n",
        "from nltk.tokenize import word_tokenize\n",
        "from nltk.tag import pos_tag\n",
        "from nltk.chunk import ne_chunk\n",
        "\n",
        "nltk.download('punkt')\n",
        "nltk.download('averaged_perceptron_tagger')\n",
        "nltk.download('maxent_ne_chunker')\n",
        "nltk.download('words')"
      ],
      "metadata": {
        "colab": {
          "base_uri": "https://localhost:8080/"
        },
        "id": "gsTpEdFB_9It",
        "outputId": "b0b357e7-12a8-418e-d4c4-a8227c29f2c0"
      },
      "execution_count": 12,
      "outputs": [
        {
          "output_type": "stream",
          "name": "stdout",
          "text": [
            "[nltk_data] Downloading package punkt to /root/nltk_data...\n",
            "[nltk_data]   Package punkt is already up-to-date!\n",
            "[nltk_data] Downloading package averaged_perceptron_tagger to\n",
            "[nltk_data]     /root/nltk_data...\n",
            "[nltk_data]   Package averaged_perceptron_tagger is already up-to-\n",
            "[nltk_data]       date!\n",
            "[nltk_data] Downloading package maxent_ne_chunker to\n",
            "[nltk_data]     /root/nltk_data...\n",
            "[nltk_data]   Package maxent_ne_chunker is already up-to-date!\n",
            "[nltk_data] Downloading package words to /root/nltk_data...\n",
            "[nltk_data]   Unzipping corpora/words.zip.\n"
          ]
        },
        {
          "output_type": "execute_result",
          "data": {
            "text/plain": [
              "True"
            ]
          },
          "metadata": {},
          "execution_count": 12
        }
      ]
    },
    {
      "cell_type": "code",
      "source": [
        "dataset = \"\"\"Abraham Lincoln was an American stateman and lawyer who served as \n",
        "             the 16th President of the United States\"\"\""
      ],
      "metadata": {
        "id": "CFzO0-RJABVT"
      },
      "execution_count": 13,
      "outputs": []
    },
    {
      "cell_type": "code",
      "source": [
        "# Tokenization and POS tagging\n",
        "\n",
        "dataset_tag = pos_tag(word_tokenize(dataset))\n",
        "print(dataset_tag)\n",
        "\n",
        "# Applying named entity recognition\n",
        "dataset_ner = ne_chunk(dataset_tag)\n",
        "print(dataset_ner)\n",
        "\n",
        "# Tree diagram \n",
        "# Note this line can not be run on Colab.\n",
        "# dataset_ner.draw()"
      ],
      "metadata": {
        "colab": {
          "base_uri": "https://localhost:8080/"
        },
        "id": "jQUKbCvTADNF",
        "outputId": "86c9c647-9f07-4ae1-9cdd-cafe0cdc7a6c"
      },
      "execution_count": 15,
      "outputs": [
        {
          "output_type": "stream",
          "name": "stdout",
          "text": [
            "[('Abraham', 'NNP'), ('Lincoln', 'NNP'), ('was', 'VBD'), ('an', 'DT'), ('American', 'JJ'), ('stateman', 'NN'), ('and', 'CC'), ('lawyer', 'NN'), ('who', 'WP'), ('served', 'VBD'), ('as', 'IN'), ('the', 'DT'), ('16th', 'CD'), ('President', 'NNP'), ('of', 'IN'), ('the', 'DT'), ('United', 'NNP'), ('States', 'NNPS')]\n",
            "(S\n",
            "  (PERSON Abraham/NNP)\n",
            "  (PERSON Lincoln/NNP)\n",
            "  was/VBD\n",
            "  an/DT\n",
            "  (GPE American/JJ)\n",
            "  stateman/NN\n",
            "  and/CC\n",
            "  lawyer/NN\n",
            "  who/WP\n",
            "  served/VBD\n",
            "  as/IN\n",
            "  the/DT\n",
            "  16th/CD\n",
            "  President/NNP\n",
            "  of/IN\n",
            "  the/DT\n",
            "  (GPE United/NNP States/NNPS))\n"
          ]
        }
      ]
    }
  ]
}