{
  "nbformat": 4,
  "nbformat_minor": 0,
  "metadata": {
    "colab": {
      "name": "Chunking.ipynb",
      "provenance": [],
      "toc_visible": true,
      "authorship_tag": "ABX9TyO3KLh8ZFCub2o/QfvnKgf7",
      "include_colab_link": true
    },
    "kernelspec": {
      "name": "python3",
      "display_name": "Python 3"
    },
    "language_info": {
      "name": "python"
    }
  },
  "cells": [
    {
      "cell_type": "markdown",
      "metadata": {
        "id": "view-in-github",
        "colab_type": "text"
      },
      "source": [
        "<a href=\"https://colab.research.google.com/github/arjangvt/CodeFolio/blob/main/ML/NLP/Basics/Chunking.ipynb\" target=\"_parent\"><img src=\"https://colab.research.google.com/assets/colab-badge.svg\" alt=\"Open In Colab\"/></a>"
      ]
    },
    {
      "cell_type": "markdown",
      "source": [
        "Here I use NLTK for basic text and language process. <br>\n",
        "I use these examples as my own references. \n",
        "\n",
        "Note: <br>\n",
        "Typically if you install nltk on your personal computer, you don't need to install each package separately (See NLTK installation colab file). Since Colab does not hold the installation\n",
        "we have to install nesessary packages separately. \n",
        "<br>\n",
        "Written by: Arjang Fahim\n",
        "Date: 2/10/2018"
      ],
      "metadata": {
        "id": "4ZThShyJ6FVL"
      }
    },
    {
      "cell_type": "markdown",
      "source": [
        "# Chunking"
      ],
      "metadata": {
        "id": "XdiRY_gc77xl"
      }
    },
    {
      "cell_type": "markdown",
      "source": [
        "Chunking: Grouping set of post_tagging"
      ],
      "metadata": {
        "id": "zezrtUOc6vQl"
      }
    },
    {
      "cell_type": "code",
      "execution_count": null,
      "metadata": {
        "colab": {
          "base_uri": "https://localhost:8080/"
        },
        "id": "kw_ZvFv249o1",
        "outputId": "a876af3a-cb8a-4619-98b0-23d55c872764"
      },
      "outputs": [
        {
          "output_type": "stream",
          "name": "stdout",
          "text": [
            "[nltk_data] Downloading package averaged_perceptron_tagger to\n",
            "[nltk_data]     /root/nltk_data...\n",
            "[nltk_data]   Unzipping taggers/averaged_perceptron_tagger.zip.\n",
            "[nltk_data] Downloading package punkt to /root/nltk_data...\n",
            "[nltk_data]   Package punkt is already up-to-date!\n"
          ]
        },
        {
          "output_type": "execute_result",
          "data": {
            "text/plain": [
              "True"
            ]
          },
          "metadata": {},
          "execution_count": 7
        }
      ],
      "source": [
        "import nltk\n",
        "from nltk.tokenize import word_tokenize\n",
        "from nltk.tag import pos_tag\n",
        "from nltk.chunk import RegexpParser\n",
        "\n",
        "nltk.download('averaged_perceptron_tagger')\n",
        "nltk.download('punkt')"
      ]
    },
    {
      "cell_type": "code",
      "source": [
        "dataset = \"\"\"Taj Mahal is one of the world's most celeberated structures\n",
        "             in the world. It is a stunning symbol of Indian rich history\"\"\""
      ],
      "metadata": {
        "id": "2zdppN0p652l"
      },
      "execution_count": null,
      "outputs": []
    },
    {
      "cell_type": "code",
      "source": [
        "# tokanizing dataset\n",
        "new_dataset = word_tokenize(text=dataset)\n",
        "print(new_dataset)\n"
      ],
      "metadata": {
        "colab": {
          "base_uri": "https://localhost:8080/"
        },
        "id": "sUa3TmyO7FXm",
        "outputId": "040f7efa-a131-4d03-cfa4-0f7f5da680d6"
      },
      "execution_count": null,
      "outputs": [
        {
          "output_type": "stream",
          "name": "stdout",
          "text": [
            "[nltk_data] Downloading package punkt to /root/nltk_data...\n",
            "[nltk_data]   Unzipping tokenizers/punkt.zip.\n",
            "['Taj', 'Mahal', 'is', 'one', 'of', 'the', 'world', \"'s\", 'most', 'celeberated', 'structures', 'in', 'the', 'world', '.', 'It', 'is', 'a', 'stunning', 'symbol', 'of', 'Indian', 'rich', 'history']\n"
          ]
        }
      ]
    },
    {
      "cell_type": "code",
      "source": [
        "# applying POS tagging\n",
        "pos = pos_tag(tokens=new_dataset)\n",
        "print(pos)"
      ],
      "metadata": {
        "colab": {
          "base_uri": "https://localhost:8080/"
        },
        "id": "VtmZM5qg8EBQ",
        "outputId": "2338a8e0-3346-450f-d83f-d320b54e6006"
      },
      "execution_count": null,
      "outputs": [
        {
          "output_type": "stream",
          "name": "stdout",
          "text": [
            "[('Taj', 'NNP'), ('Mahal', 'NNP'), ('is', 'VBZ'), ('one', 'CD'), ('of', 'IN'), ('the', 'DT'), ('world', 'NN'), (\"'s\", 'POS'), ('most', 'RBS'), ('celeberated', 'JJ'), ('structures', 'NNS'), ('in', 'IN'), ('the', 'DT'), ('world', 'NN'), ('.', '.'), ('It', 'PRP'), ('is', 'VBZ'), ('a', 'DT'), ('stunning', 'JJ'), ('symbol', 'NN'), ('of', 'IN'), ('Indian', 'JJ'), ('rich', 'JJ'), ('history', 'NN')]\n"
          ]
        }
      ]
    },
    {
      "cell_type": "code",
      "source": [
        "# Define Sequence of chunk\n",
        "\n",
        "sequence_chunck = \"\"\" \n",
        "chunk:\n",
        "    {<NNPS>+}\n",
        "    {<NNP>+}\n",
        "    {<NN>+}\n",
        "\"\"\""
      ],
      "metadata": {
        "id": "mPWjm8n28a61"
      },
      "execution_count": null,
      "outputs": []
    },
    {
      "cell_type": "code",
      "source": [
        "reg_parser = RegexpParser(sequence_chunck)\n",
        "\n",
        "\n",
        "# Applying chuncling\n",
        "chunk_result = reg_parser.parse(pos)\n",
        "print(chunk_result)"
      ],
      "metadata": {
        "id": "WLPbDngz8gYq",
        "outputId": "b33fe68e-945d-48af-b2db-47ac4159ad50",
        "colab": {
          "base_uri": "https://localhost:8080/"
        }
      },
      "execution_count": null,
      "outputs": [
        {
          "output_type": "stream",
          "name": "stdout",
          "text": [
            "(S\n",
            "  (chunk Taj/NNP Mahal/NNP)\n",
            "  is/VBZ\n",
            "  one/CD\n",
            "  of/IN\n",
            "  the/DT\n",
            "  (chunk world/NN)\n",
            "  's/POS\n",
            "  most/RBS\n",
            "  celeberated/JJ\n",
            "  structures/NNS\n",
            "  in/IN\n",
            "  the/DT\n",
            "  (chunk world/NN)\n",
            "  ./.\n",
            "  It/PRP\n",
            "  is/VBZ\n",
            "  a/DT\n",
            "  stunning/JJ\n",
            "  (chunk symbol/NN)\n",
            "  of/IN\n",
            "  Indian/JJ\n",
            "  rich/JJ\n",
            "  (chunk history/NN))\n"
          ]
        }
      ]
    }
  ]
}