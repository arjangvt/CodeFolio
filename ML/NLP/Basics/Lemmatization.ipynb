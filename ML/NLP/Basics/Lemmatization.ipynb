{
  "nbformat": 4,
  "nbformat_minor": 0,
  "metadata": {
    "colab": {
      "name": "Lemmatization.ipynb",
      "provenance": [],
      "toc_visible": true,
      "authorship_tag": "ABX9TyPM0vRe6EG/9HFe8gof+owh",
      "include_colab_link": true
    },
    "kernelspec": {
      "name": "python3",
      "display_name": "Python 3"
    },
    "language_info": {
      "name": "python"
    }
  },
  "cells": [
    {
      "cell_type": "markdown",
      "metadata": {
        "id": "view-in-github",
        "colab_type": "text"
      },
      "source": [
        "<a href=\"https://colab.research.google.com/github/arjangvt/CodeFolio/blob/main/ML/NLP/Basics/Lemmatization.ipynb\" target=\"_parent\"><img src=\"https://colab.research.google.com/assets/colab-badge.svg\" alt=\"Open In Colab\"/></a>"
      ]
    },
    {
      "cell_type": "markdown",
      "source": [
        "Here I use NLTK for basic text and language process.\n",
        "I use these examples as my own references.\n",
        "\n",
        "Note:\n",
        "Typically if you install nltk on your personal computer, you don't need to install each package separately (See NLTK installation colab file). Since Colab does not hold the installation we have to install nesessary packages separately.\n",
        "Written by: Arjang Fahim Date: 2/10/2018"
      ],
      "metadata": {
        "id": "UtX41lgR9dbJ"
      }
    },
    {
      "cell_type": "markdown",
      "source": [
        "# Lemmatization"
      ],
      "metadata": {
        "id": "_RQyyRrS9arY"
      }
    },
    {
      "cell_type": "code",
      "execution_count": 1,
      "metadata": {
        "id": "vgfMi5ux9Use"
      },
      "outputs": [],
      "source": [
        "# Lemmatization : convert a form in a dictionary form"
      ]
    },
    {
      "cell_type": "code",
      "source": [
        "import nltk\n",
        "from nltk.stem import WordNetLemmatizer\n",
        "\n",
        "nltk.download('wordnet')"
      ],
      "metadata": {
        "colab": {
          "base_uri": "https://localhost:8080/"
        },
        "id": "VmcFk7D79tc6",
        "outputId": "23afae2e-797d-40a0-9e37-a0913fea3b1a"
      },
      "execution_count": 4,
      "outputs": [
        {
          "output_type": "stream",
          "name": "stdout",
          "text": [
            "[nltk_data] Downloading package wordnet to /root/nltk_data...\n",
            "[nltk_data]   Unzipping corpora/wordnet.zip.\n"
          ]
        },
        {
          "output_type": "execute_result",
          "data": {
            "text/plain": [
              "True"
            ]
          },
          "metadata": {},
          "execution_count": 4
        }
      ]
    },
    {
      "cell_type": "code",
      "source": [
        "wnl = WordNetLemmatizer()\n",
        "print(wnl.lemmatize(word='churches'))\n",
        "print(wnl.lemmatize(word='dogs'))\n",
        "print(wnl.lemmatize(word='feed'))\n",
        "print(wnl.lemmatize(word='better', pos='a'))"
      ],
      "metadata": {
        "colab": {
          "base_uri": "https://localhost:8080/"
        },
        "id": "Lw-QDh9b9yBO",
        "outputId": "417c62bc-32cc-430a-de57-7bec4fd15001"
      },
      "execution_count": 5,
      "outputs": [
        {
          "output_type": "stream",
          "name": "stdout",
          "text": [
            "church\n",
            "dog\n",
            "feed\n",
            "good\n"
          ]
        }
      ]
    }
  ]
}