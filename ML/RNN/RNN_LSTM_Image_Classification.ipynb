{
  "nbformat": 4,
  "nbformat_minor": 0,
  "metadata": {
    "colab": {
      "name": "RNN-LSTM-Image Classification.ipynb",
      "provenance": [],
      "toc_visible": true,
      "authorship_tag": "ABX9TyOGsKV8olooAExe8TustImt",
      "include_colab_link": true
    },
    "kernelspec": {
      "name": "python3",
      "display_name": "Python 3"
    },
    "language_info": {
      "name": "python"
    }
  },
  "cells": [
    {
      "cell_type": "markdown",
      "metadata": {
        "id": "view-in-github",
        "colab_type": "text"
      },
      "source": [
        "<a href=\"https://colab.research.google.com/github/arjangvt/CodeFolio/blob/main/ML/RNN/RNN_LSTM_Image_Classification.ipynb\" target=\"_parent\"><img src=\"https://colab.research.google.com/assets/colab-badge.svg\" alt=\"Open In Colab\"/></a>"
      ]
    },
    {
      "cell_type": "markdown",
      "source": [
        "Building an RNN-LSTM model using tensorflow.\n",
        "__________________________________________________\n",
        "<br>\n",
        "<br>\n",
        "<font size=2>\n",
        "Written by: Arjang Fahim<br>\n",
        "Date: 10-5-2021\n",
        "Updated: 4-10-2022\n",
        "</font>"
      ],
      "metadata": {
        "id": "F9EFWS3_UDQn"
      }
    },
    {
      "cell_type": "markdown",
      "source": [
        "# Step 1: Installation and Setup"
      ],
      "metadata": {
        "id": "1RfY2g4eUPOm"
      }
    },
    {
      "cell_type": "markdown",
      "source": [
        "\n",
        "  Colab already installed tensorflow versions 1.x and 2.0,\n",
        "  GPU and non GPU versions. <br>\n",
        "  For more information please check: <br>\n",
        "  https://colab.research.google.com/notebooks/tensorflow_version.ipynb"
      ],
      "metadata": {
        "id": "lqEMUVYIUWCi"
      }
    },
    {
      "cell_type": "code",
      "execution_count": null,
      "metadata": {
        "id": "Ig9L2YAbJsAN"
      },
      "outputs": [],
      "source": [
        "# pip insrall tensorflow"
      ]
    },
    {
      "cell_type": "code",
      "source": [
        "import tensorflow as tf"
      ],
      "metadata": {
        "id": "asGckwD1Uhxy"
      },
      "execution_count": 2,
      "outputs": []
    },
    {
      "cell_type": "code",
      "source": [
        "print(tf.__version__)"
      ],
      "metadata": {
        "colab": {
          "base_uri": "https://localhost:8080/"
        },
        "id": "sthYWYszUl7X",
        "outputId": "ad305bd7-6853-4337-b686-97840f66a226"
      },
      "execution_count": 3,
      "outputs": [
        {
          "output_type": "stream",
          "name": "stdout",
          "text": [
            "2.8.0\n"
          ]
        }
      ]
    },
    {
      "cell_type": "code",
      "source": [
        "import pandas as pd\n",
        "import numpy as np\n",
        "import matplotlib.pyplot as plt"
      ],
      "metadata": {
        "id": "PTpeo2ylUp79"
      },
      "execution_count": 4,
      "outputs": []
    },
    {
      "cell_type": "markdown",
      "source": [
        "# Step 2: Data preprocessing"
      ],
      "metadata": {
        "id": "xAa-7nb2Usd6"
      }
    },
    {
      "cell_type": "code",
      "source": [
        "# import dataset\n",
        "from tensorflow.keras.datasets import mnist"
      ],
      "metadata": {
        "id": "Jgis3pFTV26C"
      },
      "execution_count": 5,
      "outputs": []
    },
    {
      "cell_type": "code",
      "source": [
        "# loading the dataset\n",
        "(x_train, y_train), (x_test, y_test) = mnist.load_data()"
      ],
      "metadata": {
        "colab": {
          "base_uri": "https://localhost:8080/"
        },
        "id": "1X2UiIm5WYXa",
        "outputId": "ef9c9688-d2ee-4abe-ac0b-e6251c77e91b"
      },
      "execution_count": 6,
      "outputs": [
        {
          "output_type": "stream",
          "name": "stdout",
          "text": [
            "Downloading data from https://storage.googleapis.com/tensorflow/tf-keras-datasets/mnist.npz\n",
            "11493376/11490434 [==============================] - 0s 0us/step\n",
            "11501568/11490434 [==============================] - 0s 0us/step\n"
          ]
        }
      ]
    },
    {
      "cell_type": "code",
      "source": [
        "x_train.shape, x_test.shape"
      ],
      "metadata": {
        "colab": {
          "base_uri": "https://localhost:8080/"
        },
        "id": "C4FpWkVNWeId",
        "outputId": "e2572445-6b04-4233-baac-fa74e39fdb3b"
      },
      "execution_count": 7,
      "outputs": [
        {
          "output_type": "execute_result",
          "data": {
            "text/plain": [
              "((60000, 28, 28), (10000, 28, 28))"
            ]
          },
          "metadata": {},
          "execution_count": 7
        }
      ]
    },
    {
      "cell_type": "code",
      "source": [
        "y_train.shape, y_test.shape"
      ],
      "metadata": {
        "colab": {
          "base_uri": "https://localhost:8080/"
        },
        "id": "lU1c3usjWkuM",
        "outputId": "7c725bc3-5a07-45f3-b16a-6bfbb33889ce"
      },
      "execution_count": 8,
      "outputs": [
        {
          "output_type": "execute_result",
          "data": {
            "text/plain": [
              "((60000,), (10000,))"
            ]
          },
          "metadata": {},
          "execution_count": 8
        }
      ]
    },
    {
      "cell_type": "code",
      "source": [
        "x_train.min(), x_train.max()"
      ],
      "metadata": {
        "colab": {
          "base_uri": "https://localhost:8080/"
        },
        "id": "mDR6pfi0WpfW",
        "outputId": "5700efed-4e12-4b65-8a52-c7188241d7c4"
      },
      "execution_count": 9,
      "outputs": [
        {
          "output_type": "execute_result",
          "data": {
            "text/plain": [
              "(0, 255)"
            ]
          },
          "metadata": {},
          "execution_count": 9
        }
      ]
    },
    {
      "cell_type": "code",
      "source": [
        "y_train.min(), y_train.max()"
      ],
      "metadata": {
        "colab": {
          "base_uri": "https://localhost:8080/"
        },
        "id": "ZIyq6MqoWtyp",
        "outputId": "36f29f13-21cf-44a5-a482-193b088a47aa"
      },
      "execution_count": 10,
      "outputs": [
        {
          "output_type": "execute_result",
          "data": {
            "text/plain": [
              "(0, 9)"
            ]
          },
          "metadata": {},
          "execution_count": 10
        }
      ]
    },
    {
      "cell_type": "code",
      "source": [
        "# normalizing the dataset\n",
        "x_train = x_train / 255.0\n",
        "x_test = x_test / 255.0"
      ],
      "metadata": {
        "id": "fyXf5F97Wxfn"
      },
      "execution_count": 11,
      "outputs": []
    },
    {
      "cell_type": "code",
      "source": [
        "x_train.min(), x_train.max()"
      ],
      "metadata": {
        "colab": {
          "base_uri": "https://localhost:8080/"
        },
        "id": "1IttNNCSW3Bw",
        "outputId": "e6edc288-e309-4ef6-de79-53e04e711ac9"
      },
      "execution_count": 12,
      "outputs": [
        {
          "output_type": "execute_result",
          "data": {
            "text/plain": [
              "(0.0, 1.0)"
            ]
          },
          "metadata": {},
          "execution_count": 12
        }
      ]
    },
    {
      "cell_type": "code",
      "source": [
        "plt.imshow(x_train[5])"
      ],
      "metadata": {
        "colab": {
          "base_uri": "https://localhost:8080/",
          "height": 282
        },
        "id": "rN2omqw7W5Mi",
        "outputId": "d43af24e-f0da-4e7c-cab4-5bd27125bb24"
      },
      "execution_count": 13,
      "outputs": [
        {
          "output_type": "execute_result",
          "data": {
            "text/plain": [
              "<matplotlib.image.AxesImage at 0x7f2400f4cb90>"
            ]
          },
          "metadata": {},
          "execution_count": 13
        },
        {
          "output_type": "display_data",
          "data": {
            "text/plain": [
              "<Figure size 432x288 with 1 Axes>"
            ],
            "image/png": "[encoded data removed]"
          },
          "metadata": {
            "needs_background": "light"
          }
        }
      ]
    },
    {
      "cell_type": "code",
      "source": [
        "y_train[5]"
      ],
      "metadata": {
        "colab": {
          "base_uri": "https://localhost:8080/"
        },
        "id": "U8dDDFkUW8-V",
        "outputId": "1a84e557-ff45-465c-9066-09b058bb61c9"
      },
      "execution_count": 14,
      "outputs": [
        {
          "output_type": "execute_result",
          "data": {
            "text/plain": [
              "2"
            ]
          },
          "metadata": {},
          "execution_count": 14
        }
      ]
    },
    {
      "cell_type": "markdown",
      "source": [
        "# Step 3: Building the LSTM"
      ],
      "metadata": {
        "id": "X6Xc0cdTXI-S"
      }
    },
    {
      "cell_type": "code",
      "source": [
        "# Define an keras model (RNN) object\n",
        "\n",
        "model = tf.keras.models.Sequential()"
      ],
      "metadata": {
        "id": "G3-qVoFkXN35"
      },
      "execution_count": 19,
      "outputs": []
    },
    {
      "cell_type": "code",
      "source": [
        "# Adding first LSTM layer\n",
        "# return_sequence : if we have dense layer after LSTM then the sequence \n",
        "#                   layer should be False\n",
        "\n",
        "model.add(tf.keras.layers.LSTM(units=128, activation='relu', return_sequences=True, input_shape=(28,28)))\n",
        "model.add(tf.keras.layers.Dropout(0.2))\n",
        "\n",
        "# Adding second LSTM layer\n",
        "model.add(tf.keras.layers.LSTM(units=128, activation='relu'))\n",
        "model.add(tf.keras.layers.Dropout(0.2))\n",
        "\n",
        "# Adding fully connected layer (first dense layer)\n",
        "model.add(tf.keras.layers.Dense(units=32, activation='relu'))\n",
        "model.add(tf.keras.layers.Dropout(0.2))\n",
        "\n",
        "# Output layer\n",
        "model.add(tf.keras.layers.Dense(units=10, activation='softmax'))"
      ],
      "metadata": {
        "id": "6LaMj-WSYCR-"
      },
      "execution_count": 20,
      "outputs": []
    },
    {
      "cell_type": "code",
      "source": [
        "model.summary()"
      ],
      "metadata": {
        "colab": {
          "base_uri": "https://localhost:8080/"
        },
        "id": "SgpfOfyxbNPw",
        "outputId": "e5d55535-ff99-406d-f67f-90dca8804262"
      },
      "execution_count": 21,
      "outputs": [
        {
          "output_type": "stream",
          "name": "stdout",
          "text": [
            "Model: \"sequential_1\"\n",
            "_________________________________________________________________\n",
            " Layer (type)                Output Shape              Param #   \n",
            "=================================================================\n",
            " lstm_3 (LSTM)               (None, 28, 128)           80384     \n",
            "                                                                 \n",
            " dropout_2 (Dropout)         (None, 28, 128)           0         \n",
            "                                                                 \n",
            " lstm_4 (LSTM)               (None, 128)               131584    \n",
            "                                                                 \n",
            " dropout_3 (Dropout)         (None, 128)               0         \n",
            "                                                                 \n",
            " dense (Dense)               (None, 32)                4128      \n",
            "                                                                 \n",
            " dropout_4 (Dropout)         (None, 32)                0         \n",
            "                                                                 \n",
            " dense_1 (Dense)             (None, 10)                330       \n",
            "                                                                 \n",
            "=================================================================\n",
            "Total params: 216,426\n",
            "Trainable params: 216,426\n",
            "Non-trainable params: 0\n",
            "_________________________________________________________________\n"
          ]
        }
      ]
    },
    {
      "cell_type": "code",
      "source": [
        "# Defining optimizer\n",
        "opt = tf.keras.optimizers.Adam(learning_rate=0.001)"
      ],
      "metadata": {
        "id": "DuBUEDavbTrv"
      },
      "execution_count": 22,
      "outputs": []
    },
    {
      "cell_type": "code",
      "source": [
        "# Compile the model\n",
        "model.compile(optimizer=opt, loss='sparse_categorical_crossentropy', metrics=['accuracy'])"
      ],
      "metadata": {
        "id": "qZbwTpaBbcs_"
      },
      "execution_count": 23,
      "outputs": []
    },
    {
      "cell_type": "markdown",
      "source": [
        "# Step 4: Training the model"
      ],
      "metadata": {
        "id": "qC6KV2X_bz0B"
      }
    },
    {
      "cell_type": "code",
      "source": [
        "history = model.fit(x_train, y_train, epochs=10, validation_data=(x_test, y_test))"
      ],
      "metadata": {
        "colab": {
          "base_uri": "https://localhost:8080/"
        },
        "id": "qpMENsfyb9FL",
        "outputId": "3c6bf9c5-a264-4884-94a9-31463d8926a4"
      },
      "execution_count": 24,
      "outputs": [
        {
          "output_type": "stream",
          "name": "stdout",
          "text": [
            "Epoch 1/10\n",
            "1875/1875 [==============================] - 145s 76ms/step - loss: 0.5793 - accuracy: 0.8113 - val_loss: 0.1527 - val_accuracy: 0.9539\n",
            "Epoch 2/10\n",
            "1875/1875 [==============================] - 144s 77ms/step - loss: 0.1578 - accuracy: 0.9580 - val_loss: 0.0847 - val_accuracy: 0.9739\n",
            "Epoch 3/10\n",
            "1875/1875 [==============================] - 133s 71ms/step - loss: 0.1048 - accuracy: 0.9719 - val_loss: 0.0792 - val_accuracy: 0.9806\n",
            "Epoch 4/10\n",
            "1875/1875 [==============================] - 131s 70ms/step - loss: 0.0837 - accuracy: 0.9780 - val_loss: 0.0714 - val_accuracy: 0.9828\n",
            "Epoch 5/10\n",
            "1875/1875 [==============================] - 131s 70ms/step - loss: 0.0693 - accuracy: 0.9824 - val_loss: 0.0561 - val_accuracy: 0.9843\n",
            "Epoch 6/10\n",
            "1875/1875 [==============================] - 131s 70ms/step - loss: 0.0598 - accuracy: 0.9847 - val_loss: 0.0439 - val_accuracy: 0.9878\n",
            "Epoch 7/10\n",
            "1875/1875 [==============================] - 131s 70ms/step - loss: 0.0504 - accuracy: 0.9864 - val_loss: 0.0427 - val_accuracy: 0.9888\n",
            "Epoch 8/10\n",
            "1875/1875 [==============================] - 131s 70ms/step - loss: 0.0469 - accuracy: 0.9878 - val_loss: 0.0533 - val_accuracy: 0.9868\n",
            "Epoch 9/10\n",
            "1875/1875 [==============================] - 131s 70ms/step - loss: 0.0429 - accuracy: 0.9884 - val_loss: 0.0472 - val_accuracy: 0.9874\n",
            "Epoch 10/10\n",
            "1875/1875 [==============================] - 132s 70ms/step - loss: 0.0381 - accuracy: 0.9898 - val_loss: 0.0456 - val_accuracy: 0.9885\n"
          ]
        }
      ]
    },
    {
      "cell_type": "code",
      "source": [
        "# Model prediction\n",
        "y_pred = model.predict(x_test)\n",
        "y_pred = np.argmax(y_pred, axis = -1)"
      ],
      "metadata": {
        "id": "3b1vpd3KcaMj"
      },
      "execution_count": 26,
      "outputs": []
    },
    {
      "cell_type": "code",
      "source": [
        "# One example of prediction\n",
        "print(y_pred[0], y_test[0])"
      ],
      "metadata": {
        "colab": {
          "base_uri": "https://localhost:8080/"
        },
        "id": "cCiJrcSGcwj4",
        "outputId": "c0d89516-426e-44f7-c043-cbc53df0d0d3"
      },
      "execution_count": 27,
      "outputs": [
        {
          "output_type": "stream",
          "name": "stdout",
          "text": [
            "7 7\n"
          ]
        }
      ]
    },
    {
      "cell_type": "code",
      "source": [
        "# Another example\n",
        "print(y_pred[10], y_test[10])"
      ],
      "metadata": {
        "colab": {
          "base_uri": "https://localhost:8080/"
        },
        "id": "boS0hujec7nO",
        "outputId": "22e22e16-656b-48fd-d00c-d6ce144e3f5a"
      },
      "execution_count": 28,
      "outputs": [
        {
          "output_type": "stream",
          "name": "stdout",
          "text": [
            "0 0\n"
          ]
        }
      ]
    },
    {
      "cell_type": "code",
      "source": [
        "# Confusion matrix\n",
        "from sklearn.metrics import confusion_matrix, accuracy_score\n",
        "\n",
        "cm = confusion_matrix(y_test, y_pred)\n",
        "print(cm)"
      ],
      "metadata": {
        "colab": {
          "base_uri": "https://localhost:8080/"
        },
        "id": "p0M_zcy5dF-3",
        "outputId": "3ab6e131-3fab-42ed-ac22-fb083cb4c00d"
      },
      "execution_count": 29,
      "outputs": [
        {
          "output_type": "stream",
          "name": "stdout",
          "text": [
            "[[ 977    0    0    0    0    1    1    1    0    0]\n",
            " [   0 1130    1    0    0    1    0    3    0    0]\n",
            " [   1    1 1023    2    0    0    0    4    1    0]\n",
            " [   0    0    3 1002    0    3    0    2    0    0]\n",
            " [   0    0    1    0  963    0    1    6    0   11]\n",
            " [   0    1    0    8    0  880    1    2    0    0]\n",
            " [   5    1    2    0    2    2  944    0    2    0]\n",
            " [   0    1    4    1    0    0    0 1019    0    3]\n",
            " [   0    0    5    2    0    2    2    5  953    5]\n",
            " [   2    0    0    0    6    1    0    5    1  994]]\n"
          ]
        }
      ]
    },
    {
      "cell_type": "code",
      "source": [
        "acc_cm = accuracy_score(y_test, y_pred)"
      ],
      "metadata": {
        "id": "3tOg6SBXdQZU"
      },
      "execution_count": 30,
      "outputs": []
    },
    {
      "cell_type": "markdown",
      "source": [
        "# Step 5: Learning curve"
      ],
      "metadata": {
        "id": "dPmuKWpXdV0V"
      }
    },
    {
      "cell_type": "code",
      "source": [
        "def learning_curve(history, epoch):\n",
        "  # training vs validation accuracy\n",
        "  epoch_range = range(1, epoch+1)\n",
        "  plt.plot(epoch_range, history.history['accuracy'])\n",
        "  plt.plot(epoch_range, history.history['val_accuracy'])\n",
        "\n",
        "  plt.title('Model Accuracy')\n",
        "  plt.ylabel('Accuracy')\n",
        "  plt.xlabel('Epoch')\n",
        "  plt.legend(['Train', 'Val'], loc='upper left')\n",
        "  plt.show()\n",
        "\n",
        "  # training vs validation loss\n",
        "  epoch_range = range(1, epoch+1)\n",
        "  plt.plot(epoch_range, history.history['loss'])\n",
        "  plt.plot(epoch_range, history.history['val_loss'])\n",
        "\n",
        "  plt.title('Model Accuracy')\n",
        "  plt.ylabel('loss')\n",
        "  plt.xlabel('Epoch')\n",
        "  plt.legend(['Train', 'Val'], loc='upper left')\n",
        "  plt.show()"
      ],
      "metadata": {
        "id": "v96x-1U8db4_"
      },
      "execution_count": 31,
      "outputs": []
    },
    {
      "cell_type": "code",
      "source": [
        "learning_curve(history, 10)"
      ],
      "metadata": {
        "colab": {
          "base_uri": "https://localhost:8080/",
          "height": 573
        },
        "id": "CTaQiuPSdeqh",
        "outputId": "8947277b-0e4d-42c9-d396-afd5dc16f52a"
      },
      "execution_count": 32,
      "outputs": [
        {
          "output_type": "display_data",
          "data": {
            "text/plain": [
              "<Figure size 432x288 with 1 Axes>"
            ],
            "image/png": "[encoded data removed]"
          },
          "metadata": {
            "needs_background": "light"
          }
        },
        {
          "output_type": "display_data",
          "data": {
            "text/plain": [
              "<Figure size 432x288 with 1 Axes>"
            ],
            "image/png": "[encoded data removed]"
          },
          "metadata": {
            "needs_background": "light"
          }
        }
      ]
    }
  ]
}