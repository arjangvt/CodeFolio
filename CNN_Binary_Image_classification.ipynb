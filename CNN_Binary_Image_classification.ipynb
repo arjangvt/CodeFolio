{
  "nbformat": 4,
  "nbformat_minor": 0,
  "metadata": {
    "colab": {
      "name": "CNN - Binary Image classification.ipynb",
      "provenance": [],
      "collapsed_sections": [],
      "authorship_tag": "ABX9TyOGZsg9vBPGJcxPYYYKNfTv",
      "include_colab_link": true
    },
    "kernelspec": {
      "name": "python3",
      "display_name": "Python 3"
    },
    "language_info": {
      "name": "python"
    },
    "accelerator": "TPU"
  },
  "cells": [
    {
      "cell_type": "markdown",
      "metadata": {
        "id": "view-in-github",
        "colab_type": "text"
      },
      "source": [
        "<a href=\"https://colab.research.google.com/github/arjangvt/CodeFolio/blob/main/CNN_Binary_Image_classification.ipynb\" target=\"_parent\"><img src=\"https://colab.research.google.com/assets/colab-badge.svg\" alt=\"Open In Colab\"/></a>"
      ]
    },
    {
      "cell_type": "markdown",
      "source": [
        "Building a CNN using tensorflow.\n",
        "In this tutorial, I used a dataset Kaggle.<br>\n",
        "This example shows how to connect and downlaod data from Kaggle.com\n",
        "__________________________________________________\n",
        "<br>\n",
        "<br>\n",
        "<font size=2>\n",
        "Written by: Arjang Fahim<br>\n",
        "Date: 9-15-2021\n",
        "Updated: 3-28-2022\n",
        "</font>"
      ],
      "metadata": {
        "id": "Pg_cbOUjSyZ3"
      }
    },
    {
      "cell_type": "markdown",
      "source": [
        "# Section1: Installtion and Setup"
      ],
      "metadata": {
        "id": "Q_PQIRIS9-Xw"
      }
    },
    {
      "cell_type": "code",
      "execution_count": 1,
      "metadata": {
        "id": "avhUF7lI9u7M",
        "colab": {
          "base_uri": "https://localhost:8080/",
          "height": 53
        },
        "outputId": "eff1872e-4c5f-49e9-8873-b9e5998cdf23"
      },
      "outputs": [
        {
          "output_type": "execute_result",
          "data": {
            "text/plain": [
              "'\\n  Colab already installed tensorflow versions 1.x and 2.0,\\n  GPU and non GPU versions.\\n  For more information please check\\n  https://colab.research.google.com/notebooks/tensorflow_version.ipynb\\n'"
            ],
            "application/vnd.google.colaboratory.intrinsic+json": {
              "type": "string"
            }
          },
          "metadata": {},
          "execution_count": 1
        }
      ],
      "source": [
        "'''\n",
        "  Colab already installed tensorflow versions 1.x and 2.0,\n",
        "  GPU and non GPU versions.\n",
        "  For more information please check\n",
        "  https://colab.research.google.com/notebooks/tensorflow_version.ipynb\n",
        "'''"
      ]
    },
    {
      "cell_type": "code",
      "source": [
        "import tensorflow as tf\n",
        "print(tf.__version__)"
      ],
      "metadata": {
        "colab": {
          "base_uri": "https://localhost:8080/"
        },
        "id": "yCh-2xIA_iz7",
        "outputId": "314d6af6-6e7f-4026-b352-60f27d49f1e1"
      },
      "execution_count": 30,
      "outputs": [
        {
          "output_type": "stream",
          "name": "stdout",
          "text": [
            "2.8.0\n"
          ]
        }
      ]
    },
    {
      "cell_type": "code",
      "source": [
        "import numpy as np\n",
        "import pandas as pd\n",
        "import matplotlib.pyplot as plt"
      ],
      "metadata": {
        "id": "K6LS4PqO_szc"
      },
      "execution_count": 31,
      "outputs": []
    },
    {
      "cell_type": "markdown",
      "source": [
        "# Step2: Inporting dataset from Kaggle to Colab"
      ],
      "metadata": {
        "id": "Ss3T45xtAKlG"
      }
    },
    {
      "cell_type": "code",
      "source": [
        "# installing Kaggle API\n",
        "\n",
        "!pip install Kaggle"
      ],
      "metadata": {
        "colab": {
          "base_uri": "https://localhost:8080/"
        },
        "id": "w7fS0oeBATYj",
        "outputId": "177909ef-fe28-4ff3-819f-fc50646361b7"
      },
      "execution_count": 32,
      "outputs": [
        {
          "output_type": "stream",
          "name": "stdout",
          "text": [
            "Requirement already satisfied: Kaggle in /usr/local/lib/python3.7/dist-packages (1.5.12)\n",
            "Requirement already satisfied: six>=1.10 in /usr/local/lib/python3.7/dist-packages (from Kaggle) (1.15.0)\n",
            "Requirement already satisfied: certifi in /usr/local/lib/python3.7/dist-packages (from Kaggle) (2021.10.8)\n",
            "Requirement already satisfied: requests in /usr/local/lib/python3.7/dist-packages (from Kaggle) (2.23.0)\n",
            "Requirement already satisfied: python-dateutil in /usr/local/lib/python3.7/dist-packages (from Kaggle) (2.8.2)\n",
            "Requirement already satisfied: urllib3 in /usr/local/lib/python3.7/dist-packages (from Kaggle) (1.24.3)\n",
            "Requirement already satisfied: tqdm in /usr/local/lib/python3.7/dist-packages (from Kaggle) (4.63.0)\n",
            "Requirement already satisfied: python-slugify in /usr/local/lib/python3.7/dist-packages (from Kaggle) (6.1.1)\n",
            "Requirement already satisfied: text-unidecode>=1.3 in /usr/local/lib/python3.7/dist-packages (from python-slugify->Kaggle) (1.3)\n",
            "Requirement already satisfied: chardet<4,>=3.0.2 in /usr/local/lib/python3.7/dist-packages (from requests->Kaggle) (3.0.4)\n",
            "Requirement already satisfied: idna<3,>=2.5 in /usr/local/lib/python3.7/dist-packages (from requests->Kaggle) (2.10)\n"
          ]
        }
      ]
    },
    {
      "cell_type": "code",
      "source": [
        "# create a directory as Kaggle in your Colab\n",
        " \n",
        "! mkdir -p ~/.kaggle"
      ],
      "metadata": {
        "id": "PuYOoUxgA9Yl"
      },
      "execution_count": 33,
      "outputs": []
    },
    {
      "cell_type": "markdown",
      "source": [
        "In this section we need to create and download kaggle.json from kaggle.com <br>\n",
        "To obtain the file from Kaggle.com <br>\n",
        "1- Create an account in kaggle.com <br>\n",
        "2- On the right top of your screen click on the icon (it should be a duck by   \n",
        "   default, if you don't have any other picture. <br>\n",
        "3- Select Account option menu.\n",
        "4- Scroll down the page, click on the \"Create New API Token\" button.\n",
        "5- kaggle.json should be downloaded on your local computer. "
      ],
      "metadata": {
        "id": "6XNGPar5Tx1q"
      }
    },
    {
      "cell_type": "code",
      "source": [
        "# import API key to Google colab\n",
        "\n",
        "from google.colab import files\n",
        "uploaded = files.upload()"
      ],
      "metadata": {
        "colab": {
          "resources": {
            "http://localhost:8080/nbextensions/google.colab/files.js": {
              "data": "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",
              "ok": true,
              "headers": [
                [
                  "content-type",
                  "application/javascript"
                ]
              ],
              "status": 200,
              "status_text": ""
            }
          },
          "base_uri": "https://localhost:8080/",
          "height": 73
        },
        "id": "A5v0JJZZBtSt",
        "outputId": "f4b59a93-9561-47fc-fa58-e1a20646ef3b"
      },
      "execution_count": 44,
      "outputs": [
        {
          "output_type": "display_data",
          "data": {
            "text/plain": [
              "<IPython.core.display.HTML object>"
            ],
            "text/html": [
              "\n",
              "     <input type=\"file\" id=\"files-53cf8d93-1834-449f-ac9b-33b8227e7af1\" name=\"files[]\" multiple disabled\n",
              "        style=\"border:none\" />\n",
              "     <output id=\"result-53cf8d93-1834-449f-ac9b-33b8227e7af1\">\n",
              "      Upload widget is only available when the cell has been executed in the\n",
              "      current browser session. Please rerun this cell to enable.\n",
              "      </output>\n",
              "      <script src=\"/nbextensions/google.colab/files.js\"></script> "
            ]
          },
          "metadata": {}
        },
        {
          "output_type": "stream",
          "name": "stdout",
          "text": [
            "Saving kaggle.json to kaggle.json\n"
          ]
        }
      ]
    },
    {
      "cell_type": "code",
      "source": [
        "# copy API key to kaggle directory\n",
        "\n",
        "!cp kaggle.json ~/.kaggle/"
      ],
      "metadata": {
        "id": "a-mZpaQZCG5d"
      },
      "execution_count": 45,
      "outputs": []
    },
    {
      "cell_type": "code",
      "source": [
        "# disable API key (required by Google for the security)\n",
        "\n",
        "!chmod 600 /root/.kaggle/kaggle.json "
      ],
      "metadata": {
        "id": "aqpM3XjOCbDd"
      },
      "execution_count": 46,
      "outputs": []
    },
    {
      "cell_type": "code",
      "source": [
        "# check the list of datasets\n",
        "# code below confirms that the connetion to Kaggle is working\n",
        "\n",
        "! kaggle datasets list"
      ],
      "metadata": {
        "colab": {
          "base_uri": "https://localhost:8080/"
        },
        "id": "peh-RnnvCthk",
        "outputId": "1ad32794-8573-4079-d08a-d61f9c5f3223"
      },
      "execution_count": 47,
      "outputs": [
        {
          "output_type": "stream",
          "name": "stdout",
          "text": [
            "ref                                                              title                                               size  lastUpdated          downloadCount  voteCount  usabilityRating  \n",
            "---------------------------------------------------------------  -------------------------------------------------  -----  -------------------  -------------  ---------  ---------------  \n",
            "datasets/piterfm/2022-ukraine-russian-war                        2022 Ukraine Russia War                              2KB  2022-03-31 09:44:51           3838        242  1.0              \n",
            "datasets/prasertk/healthy-lifestyle-cities-report-2021           Healthy Lifestyle Cities Report 2021                 2KB  2022-03-03 00:26:02           3519        104  1.0              \n",
            "datasets/kamilpytlak/personal-key-indicators-of-heart-disease    Personal Key Indicators of Heart Disease             3MB  2022-02-16 10:18:03           6394        140  1.0              \n",
            "datasets/vivek468/superstore-dataset-final                       Superstore Dataset                                 550KB  2022-02-17 11:33:07           5202        122  1.0              \n",
            "datasets/prasertk/homicide-suicide-rate-and-gdp                  Homicide rate, Suicide rate and GDP                265KB  2022-03-22 11:08:31            762         30  1.0              \n",
            "datasets/ankanhore545/carbon-dioxide-emissions-of-the-world      Carbon Dioxide Emissions of the World( 1990-2018)   15KB  2022-03-23 18:20:45            551         24  1.0              \n",
            "datasets/ajaypalsinghlo/world-happiness-report-2022              world happiness report 2022                          5KB  2022-03-21 13:41:15           1147         37  0.9705882        \n",
            "datasets/ramjasmaurya/exports-and-imports-of-india19972022       Exports and Imports of India(1997-2022)             89KB  2022-03-08 14:30:40           1283         31  1.0              \n",
            "datasets/kkhandekar/methane-emissions-across-the-world-19902018  Methane Emissions Around The World (1990-2018)      64KB  2022-03-21 22:27:40            472         28  1.0              \n",
            "datasets/equinxx/spotify-top-50-songs-in-2021                    Spotify top 50 songs in 2021                         4KB  2022-03-17 22:59:45           1821         53  1.0              \n",
            "datasets/timmofeyy/-pizza-prices-menu-in-13-different-pizzerias  🍕 Pizza Prices Menu in 13 Different Pizzerias       16KB  2022-03-24 11:26:46            394         26  0.9411765        \n",
            "datasets/prasertk/netflix-daily-top-10-in-us                     Netflix daily top 10                                70KB  2022-03-12 13:22:19           1530         37  1.0              \n",
            "datasets/pranalibose/amazon-seller-order-status-prediction       Amazon Seller - Order Status Prediction             23KB  2022-02-26 06:31:07           3024         80  0.88235295       \n",
            "datasets/xhlulu/cpc-codes                                        Cooperative Patent Classification Codes Meaning      5MB  2022-03-22 03:04:36            212         52  1.0              \n",
            "datasets/ashishjangra27/ted-talks                                TED Talks                                          298KB  2022-02-23 15:16:08           3093        138  1.0              \n",
            "datasets/rajatrc1705/youtube-videos-dataset                      Youtube Videos Dataset (~3400 videos)              646KB  2022-03-19 06:45:03            719         29  0.88235295       \n",
            "datasets/deepcontractor/unicorn-companies-dataset                Unicorn Companies Dataset                           42KB  2022-03-08 10:32:01           1171         36  1.0              \n",
            "datasets/anandhuh/countries-in-the-world-by-population-2022      Countries in the World by Population 2022            7KB  2022-03-20 14:04:10            818         47  1.0              \n",
            "datasets/majyhain/height-of-male-and-female-by-country-2022      Height of Male and Female by Country 2022            4KB  2022-02-02 00:40:19           8085        213  1.0              \n",
            "datasets/vardhansiramdasu/fraudulent-transactions-prediction     Fraudulent Transactions Prediction                 178MB  2022-03-21 16:08:45            691         29  1.0              \n"
          ]
        }
      ]
    },
    {
      "cell_type": "markdown",
      "source": [
        "The data that is used for this tutorial can be found here <br>\n",
        "https://www.kaggle.com/tongpython/cat-and-dog <br>\n",
        "To find the command for downloding the dataset into your Colab from Kaggle (this can be done for all dataset in Kaggle)<br>\n",
        "1- Open the page related to the dataset from Kaggle (e.g the link above)<br>\n",
        "2- Click on the three-dots on the right top of the screen <br>\n",
        "3- Choose \"Copy API command\" from the drop-down menu<br>"
      ],
      "metadata": {
        "id": "EE4P0UUKXQiW"
      }
    },
    {
      "cell_type": "code",
      "source": [
        "# importing the data set\n",
        "\n",
        "! kaggle datasets download -d tongpython/cat-and-dog"
      ],
      "metadata": {
        "colab": {
          "base_uri": "https://localhost:8080/"
        },
        "id": "1Sr9A4S-F69x",
        "outputId": "9ae1bc82-88d2-4ce2-b1e7-4f698308ea5f"
      },
      "execution_count": 48,
      "outputs": [
        {
          "output_type": "stream",
          "name": "stdout",
          "text": [
            "Downloading cat-and-dog.zip to /content\n",
            " 95% 206M/218M [00:01<00:00, 210MB/s]\n",
            "100% 218M/218M [00:01<00:00, 187MB/s]\n"
          ]
        }
      ]
    },
    {
      "cell_type": "code",
      "source": [
        "# unzipping the dataset\n",
        "\n",
        "! unzip -q /content/cat-and-dog.zip"
      ],
      "metadata": {
        "id": "cPGyR3zBGMho"
      },
      "execution_count": 49,
      "outputs": []
    },
    {
      "cell_type": "markdown",
      "source": [
        "# Step3: Building the Model"
      ],
      "metadata": {
        "id": "eXJDQ7dHqaD6"
      }
    },
    {
      "cell_type": "code",
      "source": [
        "# creating an object (Initializing CNN)\n",
        "\n",
        "model = tf.keras.models.Sequential()"
      ],
      "metadata": {
        "id": "t3ucLqNYqe1I"
      },
      "execution_count": 50,
      "outputs": []
    },
    {
      "cell_type": "code",
      "source": [
        "# adding first CNN layer (Input layer)\n",
        "\n",
        "model.add(tf.keras.layers.Conv2D(filters = 64, kernel_size=3, padding='same', activation='relu', input_shape=[32, 32, 3] ))"
      ],
      "metadata": {
        "id": "GrYANAJsqpy2"
      },
      "execution_count": 51,
      "outputs": []
    },
    {
      "cell_type": "code",
      "source": [
        "# adding maxpool layer\n",
        "\n",
        "model.add(tf.keras.layers.MaxPool2D(pool_size=(2,2), strides=2, padding='valid'))"
      ],
      "metadata": {
        "id": "ylXzDATKrtbG"
      },
      "execution_count": 52,
      "outputs": []
    },
    {
      "cell_type": "code",
      "source": [
        "# adding second CNN layer and maxpool layer\n",
        "\n",
        "model.add(tf.keras.layers.Conv2D(filters = 64, kernel_size=3, padding='same', activation='relu' ))\n",
        "model.add(tf.keras.layers.MaxPool2D(pool_size=(2,2), strides=2, padding='valid'))"
      ],
      "metadata": {
        "id": "hDI-agFisPVj"
      },
      "execution_count": 53,
      "outputs": []
    },
    {
      "cell_type": "code",
      "source": [
        "# adding flattening layer\n",
        "model.add(tf.keras.layers.Flatten())"
      ],
      "metadata": {
        "id": "_V9aAi1Jsinq"
      },
      "execution_count": 54,
      "outputs": []
    },
    {
      "cell_type": "code",
      "source": [
        "# adding the dropout layer\n",
        "model.add(tf.keras.layers.Dropout(0.4))"
      ],
      "metadata": {
        "id": "BcdqrFs2s09H"
      },
      "execution_count": 55,
      "outputs": []
    },
    {
      "cell_type": "code",
      "source": [
        "# adding fully connected layer\n",
        "model.add(tf.keras.layers.Dense(units=128, activation='relu'))"
      ],
      "metadata": {
        "id": "2hHuUXqOtCFb"
      },
      "execution_count": 56,
      "outputs": []
    },
    {
      "cell_type": "code",
      "source": [
        "# adding output layer\n",
        "model.add(tf.keras.layers.Dense(units=1, activation='sigmoid'))"
      ],
      "metadata": {
        "id": "2JdgK9yUtUup"
      },
      "execution_count": 57,
      "outputs": []
    },
    {
      "cell_type": "code",
      "source": [
        "# compileing the model\n",
        "model.compile(optimizer='adam', loss='binary_crossentropy', metrics=['accuracy'])"
      ],
      "metadata": {
        "id": "YnRWko1itqVm"
      },
      "execution_count": 58,
      "outputs": []
    },
    {
      "cell_type": "code",
      "source": [
        "model.summary()"
      ],
      "metadata": {
        "colab": {
          "base_uri": "https://localhost:8080/"
        },
        "id": "1cA_bhpZuYxx",
        "outputId": "694cb201-8181-4be4-8b5a-142122f30123"
      },
      "execution_count": 59,
      "outputs": [
        {
          "output_type": "stream",
          "name": "stdout",
          "text": [
            "Model: \"sequential_1\"\n",
            "_________________________________________________________________\n",
            " Layer (type)                Output Shape              Param #   \n",
            "=================================================================\n",
            " conv2d_2 (Conv2D)           (None, 32, 32, 64)        1792      \n",
            "                                                                 \n",
            " max_pooling2d_2 (MaxPooling  (None, 16, 16, 64)       0         \n",
            " 2D)                                                             \n",
            "                                                                 \n",
            " conv2d_3 (Conv2D)           (None, 16, 16, 64)        36928     \n",
            "                                                                 \n",
            " max_pooling2d_3 (MaxPooling  (None, 8, 8, 64)         0         \n",
            " 2D)                                                             \n",
            "                                                                 \n",
            " flatten_1 (Flatten)         (None, 4096)              0         \n",
            "                                                                 \n",
            " dropout_1 (Dropout)         (None, 4096)              0         \n",
            "                                                                 \n",
            " dense_2 (Dense)             (None, 128)               524416    \n",
            "                                                                 \n",
            " dense_3 (Dense)             (None, 1)                 129       \n",
            "                                                                 \n",
            "=================================================================\n",
            "Total params: 563,265\n",
            "Trainable params: 563,265\n",
            "Non-trainable params: 0\n",
            "_________________________________________________________________\n"
          ]
        }
      ]
    },
    {
      "cell_type": "markdown",
      "source": [
        "# Section4: Fitting CNN in images"
      ],
      "metadata": {
        "id": "EUqbfJgduw4F"
      }
    },
    {
      "cell_type": "code",
      "source": [
        "from tensorflow.keras.preprocessing.image import ImageDataGenerator"
      ],
      "metadata": {
        "id": "1EQwLDjLu4sQ"
      },
      "execution_count": 60,
      "outputs": []
    },
    {
      "cell_type": "code",
      "source": [
        "trinaing_data_dir = '/content/training_set/training_set'\n",
        "test_data_dir = '/content/test_set/test_set'"
      ],
      "metadata": {
        "id": "2WODVfsXvJSZ"
      },
      "execution_count": 61,
      "outputs": []
    },
    {
      "cell_type": "code",
      "source": [
        "# rescale images\n",
        "datagen = ImageDataGenerator(rescale=1./255)"
      ],
      "metadata": {
        "id": "KKW6a65ovd-D"
      },
      "execution_count": 62,
      "outputs": []
    },
    {
      "cell_type": "code",
      "source": [
        "training_set = datagen.flow_from_directory(directory=trinaing_data_dir, target_size=(32,32), classes=['dogs', 'cats'], class_mode='binary',\n",
        "                                            batch_size=20)\n",
        "test_set = datagen.flow_from_directory(directory=test_data_dir, target_size=(32,32), classes=['dogs', 'cats'], class_mode='binary',\n",
        "                                            batch_size=20)\n"
      ],
      "metadata": {
        "colab": {
          "base_uri": "https://localhost:8080/"
        },
        "id": "J5oRNpDuvn6K",
        "outputId": "dd5ed0be-6420-4673-828b-98464b1e6177"
      },
      "execution_count": 63,
      "outputs": [
        {
          "output_type": "stream",
          "name": "stdout",
          "text": [
            "Found 8005 images belonging to 2 classes.\n",
            "Found 2023 images belonging to 2 classes.\n"
          ]
        }
      ]
    },
    {
      "cell_type": "code",
      "source": [
        "len(training_set), len(test_set)"
      ],
      "metadata": {
        "colab": {
          "base_uri": "https://localhost:8080/"
        },
        "id": "1wctr3s-woGe",
        "outputId": "9a455312-4d74-4f25-b45e-950cca137658"
      },
      "execution_count": 64,
      "outputs": [
        {
          "output_type": "execute_result",
          "data": {
            "text/plain": [
              "(401, 102)"
            ]
          },
          "metadata": {},
          "execution_count": 64
        }
      ]
    },
    {
      "cell_type": "code",
      "source": [
        "len(training_set) * 20, len(test_set) *20"
      ],
      "metadata": {
        "colab": {
          "base_uri": "https://localhost:8080/"
        },
        "id": "_3Dc6dHbwtjT",
        "outputId": "cae2a032-9a65-4c39-9e63-9fb6a512c4ea"
      },
      "execution_count": 65,
      "outputs": [
        {
          "output_type": "execute_result",
          "data": {
            "text/plain": [
              "(8020, 2040)"
            ]
          },
          "metadata": {},
          "execution_count": 65
        }
      ]
    },
    {
      "cell_type": "code",
      "source": [
        "test_set.batch_size"
      ],
      "metadata": {
        "colab": {
          "base_uri": "https://localhost:8080/"
        },
        "id": "Yu-_poQgxIoe",
        "outputId": "25e281e7-57d3-4cd4-9669-0899fba27c4e"
      },
      "execution_count": 66,
      "outputs": [
        {
          "output_type": "execute_result",
          "data": {
            "text/plain": [
              "20"
            ]
          },
          "metadata": {},
          "execution_count": 66
        }
      ]
    },
    {
      "cell_type": "code",
      "source": [
        "# train the model\n",
        "# The difference between train and test accuracy shows the overfitting problem, \n",
        "# too much learning from the dataset\n",
        "# For improving: \n",
        "# 1- maybe more dropout after max pool\n",
        "# 2- change input shape to 64 by 64\n",
        "# 3- chaning the batch size and target size \n",
        "\n",
        "history = model.fit_generator(generator=training_set, steps_per_epoch=401, epochs=20, validation_data=test_set, validation_steps=102)\n"
      ],
      "metadata": {
        "colab": {
          "base_uri": "https://localhost:8080/"
        },
        "id": "slWvIsDVxMk0",
        "outputId": "d7d3a7a8-c45c-4480-b5a1-f97a1eaa4629"
      },
      "execution_count": 67,
      "outputs": [
        {
          "output_type": "stream",
          "name": "stderr",
          "text": [
            "/usr/local/lib/python3.7/dist-packages/ipykernel_launcher.py:9: UserWarning: `Model.fit_generator` is deprecated and will be removed in a future version. Please use `Model.fit`, which supports generators.\n",
            "  if __name__ == '__main__':\n"
          ]
        },
        {
          "output_type": "stream",
          "name": "stdout",
          "text": [
            "Epoch 1/20\n",
            "401/401 [==============================] - 55s 135ms/step - loss: 0.6774 - accuracy: 0.5629 - val_loss: 0.6375 - val_accuracy: 0.6560\n",
            "Epoch 2/20\n",
            "401/401 [==============================] - 54s 135ms/step - loss: 0.6137 - accuracy: 0.6597 - val_loss: 0.5719 - val_accuracy: 0.7123\n",
            "Epoch 3/20\n",
            "401/401 [==============================] - 54s 135ms/step - loss: 0.5692 - accuracy: 0.7047 - val_loss: 0.5495 - val_accuracy: 0.7261\n",
            "Epoch 4/20\n",
            "401/401 [==============================] - 53s 132ms/step - loss: 0.5395 - accuracy: 0.7233 - val_loss: 0.5601 - val_accuracy: 0.7123\n",
            "Epoch 5/20\n",
            "401/401 [==============================] - 54s 134ms/step - loss: 0.5068 - accuracy: 0.7448 - val_loss: 0.5219 - val_accuracy: 0.7439\n",
            "Epoch 6/20\n",
            "401/401 [==============================] - 53s 133ms/step - loss: 0.4804 - accuracy: 0.7715 - val_loss: 0.5407 - val_accuracy: 0.7380\n",
            "Epoch 7/20\n",
            "401/401 [==============================] - 53s 133ms/step - loss: 0.4557 - accuracy: 0.7788 - val_loss: 0.5165 - val_accuracy: 0.7504\n",
            "Epoch 8/20\n",
            "401/401 [==============================] - 53s 132ms/step - loss: 0.4295 - accuracy: 0.7978 - val_loss: 0.5088 - val_accuracy: 0.7479\n",
            "Epoch 9/20\n",
            "401/401 [==============================] - 53s 133ms/step - loss: 0.4042 - accuracy: 0.8122 - val_loss: 0.5062 - val_accuracy: 0.7657\n",
            "Epoch 10/20\n",
            "401/401 [==============================] - 53s 132ms/step - loss: 0.3728 - accuracy: 0.8322 - val_loss: 0.4998 - val_accuracy: 0.7736\n",
            "Epoch 11/20\n",
            "401/401 [==============================] - 53s 133ms/step - loss: 0.3468 - accuracy: 0.8470 - val_loss: 0.5149 - val_accuracy: 0.7642\n",
            "Epoch 12/20\n",
            "401/401 [==============================] - 53s 133ms/step - loss: 0.3200 - accuracy: 0.8587 - val_loss: 0.5287 - val_accuracy: 0.7741\n",
            "Epoch 13/20\n",
            "401/401 [==============================] - 53s 133ms/step - loss: 0.2870 - accuracy: 0.8783 - val_loss: 0.5504 - val_accuracy: 0.7682\n",
            "Epoch 14/20\n",
            "401/401 [==============================] - 53s 132ms/step - loss: 0.2657 - accuracy: 0.8873 - val_loss: 0.5508 - val_accuracy: 0.7677\n",
            "Epoch 15/20\n",
            "401/401 [==============================] - 53s 132ms/step - loss: 0.2356 - accuracy: 0.9018 - val_loss: 0.6022 - val_accuracy: 0.7657\n",
            "Epoch 16/20\n",
            "401/401 [==============================] - 53s 132ms/step - loss: 0.2111 - accuracy: 0.9156 - val_loss: 0.6234 - val_accuracy: 0.7341\n",
            "Epoch 17/20\n",
            "401/401 [==============================] - 53s 133ms/step - loss: 0.1868 - accuracy: 0.9253 - val_loss: 0.6278 - val_accuracy: 0.7598\n",
            "Epoch 18/20\n",
            "401/401 [==============================] - 53s 132ms/step - loss: 0.1646 - accuracy: 0.9358 - val_loss: 0.6463 - val_accuracy: 0.7514\n",
            "Epoch 19/20\n",
            "401/401 [==============================] - 53s 133ms/step - loss: 0.1603 - accuracy: 0.9384 - val_loss: 0.6615 - val_accuracy: 0.7612\n",
            "Epoch 20/20\n",
            "401/401 [==============================] - 53s 132ms/step - loss: 0.1412 - accuracy: 0.9455 - val_loss: 0.6569 - val_accuracy: 0.7548\n"
          ]
        }
      ]
    },
    {
      "cell_type": "markdown",
      "source": [
        "# Section5: Plotting the learning curve"
      ],
      "metadata": {
        "id": "gDDUCPgbDclN"
      }
    },
    {
      "cell_type": "code",
      "source": [
        "def learning_curve(history, epoch):\n",
        "  # training vs validation accuracy\n",
        "  epoch_range = range(1, epoch+1)\n",
        "  plt.plot(epoch_range, history.history['accuracy'])\n",
        "  plt.plot(epoch_range, history.history['val_accuracy'])\n",
        "\n",
        "  plt.title('Model Accuracy')\n",
        "  plt.ylabel('Accuracy')\n",
        "  plt.xlabel('Epoch')\n",
        "  plt.legend(['Train', 'Val'], loc='upper left')\n",
        "  plt.show()\n",
        "\n",
        "  # training vs validation loss\n",
        "  epoch_range = range(1, epoch+1)\n",
        "  plt.plot(epoch_range, history.history['loss'])\n",
        "  plt.plot(epoch_range, history.history['val_loss'])\n",
        "\n",
        "  plt.title('Model Accuracy')\n",
        "  plt.ylabel('loss')\n",
        "  plt.xlabel('Epoch')\n",
        "  plt.legend(['Train', 'Val'], loc='upper left')\n",
        "  plt.show()"
      ],
      "metadata": {
        "id": "IC_P_GzuDjdT"
      },
      "execution_count": 68,
      "outputs": []
    },
    {
      "cell_type": "code",
      "source": [
        "learning_curve(history, 20)\n",
        "# After 5th epoch our model is over fitted\n",
        "# because Train acc increasing but validation acc does not"
      ],
      "metadata": {
        "colab": {
          "base_uri": "https://localhost:8080/",
          "height": 573
        },
        "id": "MX2t8CzPGARs",
        "outputId": "b23256d5-bcf0-405a-ab31-cbc1bdb9fe6d"
      },
      "execution_count": 69,
      "outputs": [
        {
          "output_type": "display_data",
          "data": {
            "text/plain": [
              "<Figure size 432x288 with 1 Axes>"
            ],
            "image/png": "[encoded data removed]"
          },
          "metadata": {
            "needs_background": "light"
          }
        },
        {
          "output_type": "display_data",
          "data": {
            "text/plain": [
              "<Figure size 432x288 with 1 Axes>"
            ],
            "image/png": "[encoded data removed]"
          },
          "metadata": {
            "needs_background": "light"
          }
        }
      ]
    }
  ]
}